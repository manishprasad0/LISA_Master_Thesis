{
 "cells": [
  {
   "cell_type": "code",
   "execution_count": 1,
   "id": "d1f42f49",
   "metadata": {},
   "outputs": [
    {
     "name": "stdout",
     "output_type": "stream",
     "text": [
      "No CuPy or GPU PhenomHM module.\n",
      "No CuPy or GPU interpolation available.\n",
      "No CuPy\n",
      "No CuPy or GPU response available.\n"
     ]
    }
   ],
   "source": [
    "import numpy as np\n",
    "import matplotlib.pyplot as plt\n",
    "#%config InlineBackend.figure_format = 'retina'  # For sharper figures, but it takes more time\n",
    "import scipy as sp\n",
    "from copy import deepcopy \n",
    "\n",
    "from lisatools.utils.constants import *\n",
    "from lisatools.sensitivity  import SensitivityMatrix, A1TDISens,E1TDISens, T1TDISens, AET1SensitivityMatrix\n",
    "\n",
    "from bbhx.waveforms.phenomhm import PhenomHMAmpPhase\n",
    "from bbhx.waveformbuild import BBHWaveformFD\n",
    "from bbhx.utils.interpolate import CubicSplineInterpolant\n",
    "\n",
    "import noise_generation as noise_generation\n",
    "from tools.LISASimulator import LISASimulator"
   ]
  },
  {
   "cell_type": "code",
   "execution_count": 2,
   "id": "22aee0e6",
   "metadata": {},
   "outputs": [],
   "source": [
    "Tobs = YRSID_SI\n",
    "dt = 5.\n",
    "wave_gen = BBHWaveformFD(amp_phase_kwargs=dict(run_phenomd=False))\n",
    "\n",
    "sim = LISASimulator(Tobs=Tobs, dt=dt, wave_gen=wave_gen, )"
   ]
  },
  {
   "cell_type": "code",
   "execution_count": 3,
   "id": "7306564d",
   "metadata": {},
   "outputs": [],
   "source": [
    "wave_gen = BBHWaveformFD(amp_phase_kwargs=dict(run_phenomd=False))\n",
    "\n",
    "f_ref   = np.array([0.0, 0.0])  # let phenom codes set fRef -> fmax = max(f^2A(f))\n",
    "phi_ref = np.array([0.0, 1.0])\n",
    "m1      = np.array([1e6, 8e5])\n",
    "m2      = np.array([5e5, 2e5])\n",
    "a1      = np.array([0.2, 0.8])\n",
    "a2      = np.array([0.4, 0.7])\n",
    "dist    = np.array([10e3, 10e3])  * PC_SI * 1e6 # 3e3 in Mpc\n",
    "inc     = np.array([np.pi/3, np.pi/4])\n",
    "beta    = np.array([np.pi/4., np.pi/5])\n",
    "lam     = np.array([np.pi/5., np.pi/6])\n",
    "psi     = np.array([np.pi/6., np.pi/7])\n",
    "t_ref   = np.array([0.5, 0.8]) * YRSID_SI  # in the SSB reference frame\n",
    "\n",
    "parameters = np.array([m1, m2, a1, a2, dist, phi_ref, f_ref, inc, lam, beta, psi, t_ref])\n",
    "\n",
    "modes = [(2,2), (2,1), (3,3), (3,2), (4,4), (4,3)]\n",
    "waveform_kwargs = dict(direct=False, fill=True, squeeze=False, length=1024)\n",
    "\n",
    "signal_td = sim(seed = 42, parameters=parameters, modes=modes, waveform_kwargs=waveform_kwargs)"
   ]
  }
 ],
 "metadata": {
  "kernelspec": {
   "display_name": "lisa_env",
   "language": "python",
   "name": "python3"
  },
  "language_info": {
   "codemirror_mode": {
    "name": "ipython",
    "version": 3
   },
   "file_extension": ".py",
   "mimetype": "text/x-python",
   "name": "python",
   "nbconvert_exporter": "python",
   "pygments_lexer": "ipython3",
   "version": "3.12.9"
  }
 },
 "nbformat": 4,
 "nbformat_minor": 5
}
