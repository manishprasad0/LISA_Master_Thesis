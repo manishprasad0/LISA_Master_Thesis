{
 "cells": [
  {
   "cell_type": "code",
   "execution_count": 1,
   "id": "d1f42f49",
   "metadata": {},
   "outputs": [
    {
     "name": "stdout",
     "output_type": "stream",
     "text": [
      "No CuPy or GPU PhenomHM module.\n",
      "No CuPy or GPU interpolation available.\n",
      "No CuPy\n",
      "No CuPy or GPU response available.\n"
     ]
    }
   ],
   "source": [
    "import numpy as np\n",
    "import matplotlib.pyplot as plt\n",
    "#%config InlineBackend.figure_format = 'retina'  # For sharper figures, but it takes more time\n",
    "import scipy as sp\n",
    "from copy import deepcopy \n",
    "\n",
    "from lisatools.utils.constants import *\n",
    "from lisatools.sensitivity  import SensitivityMatrix, AET1SensitivityMatrix, AE1SensitivityMatrix\n",
    "from lisatools.analysiscontainer import AnalysisContainer\n",
    "from lisatools.datacontainer import DataResidualArray\n",
    "\n",
    "from bbhx.waveforms.phenomhm import PhenomHMAmpPhase\n",
    "from bbhx.waveformbuild import BBHWaveformFD\n",
    "from bbhx.utils.interpolate import CubicSplineInterpolant\n",
    "\n",
    "import noise_generation as noise_generation\n",
    "from tools.LISASimulator import LISASimulator, signal_time_to_freq_domain\n",
    "from tools.likelihood import get_dh"
   ]
  },
  {
   "cell_type": "markdown",
   "id": "1b9edadc",
   "metadata": {},
   "source": [
    "Generating Simulated LISA data with colored noise and MBHB signal(s)"
   ]
  },
  {
   "cell_type": "code",
   "execution_count": 2,
   "id": "7306564d",
   "metadata": {},
   "outputs": [
    {
     "name": "stderr",
     "output_type": "stream",
     "text": [
      "/opt/anaconda3/envs/lisa_env/lib/python3.12/site-packages/lisatools/detector.py:633: RuntimeWarning: divide by zero encountered in divide\n",
      "  Sa_a = Sa_a_in * (1.0 + (0.4e-3 / frq) ** 2) * (1.0 + (frq / 8e-3) ** 4)\n",
      "/opt/anaconda3/envs/lisa_env/lib/python3.12/site-packages/lisatools/detector.py:635: RuntimeWarning: divide by zero encountered in power\n",
      "  Sa_d = Sa_a * (2.0 * np.pi * frq) ** (-4.0)\n",
      "/opt/anaconda3/envs/lisa_env/lib/python3.12/site-packages/lisatools/detector.py:637: RuntimeWarning: invalid value encountered in multiply\n",
      "  Sa_nu = Sa_d * (2.0 * np.pi * frq / C_SI) ** 2\n",
      "/opt/anaconda3/envs/lisa_env/lib/python3.12/site-packages/lisatools/detector.py:642: RuntimeWarning: divide by zero encountered in divide\n",
      "  Soms_d = Soms_d_in * (1.0 + (2.0e-3 / f) ** 4)\n",
      "/opt/anaconda3/envs/lisa_env/lib/python3.12/site-packages/lisatools/detector.py:644: RuntimeWarning: invalid value encountered in multiply\n",
      "  Soms_nu = Soms_d * (2.0 * np.pi * frq / C_SI) ** 2\n"
     ]
    }
   ],
   "source": [
    "Tobs = YRSID_SI\n",
    "dt = 5.\n",
    "\n",
    "wave_gen = BBHWaveformFD(amp_phase_kwargs=dict(run_phenomd=False))\n",
    "sim = LISASimulator(Tobs=Tobs, dt=dt, wave_gen=wave_gen, )\n",
    "\n",
    "f_ref   = np.array([0.0, 0.0])\n",
    "phi_ref = np.array([0.0, 1.0])\n",
    "m1      = np.array([1e6, 8e5])\n",
    "m2      = np.array([5e5, 2e5])\n",
    "a1      = np.array([0.2, 0.8])\n",
    "a2      = np.array([0.4, 0.7])\n",
    "dist    = np.array([10e3, 10e3])  * PC_SI * 1e6 # 3e3 in Mpc\n",
    "inc     = np.array([np.pi/3, np.pi/4])\n",
    "beta    = np.array([np.pi/4., np.pi/5])\n",
    "lam     = np.array([np.pi/5., np.pi/6])\n",
    "psi     = np.array([np.pi/6., np.pi/7])\n",
    "t_ref   = np.array([0.5, 0.8]) * YRSID_SI  # in the SSB reference frame\n",
    "\n",
    "parameters = np.array([m1, m2, a1, a2, dist, phi_ref, f_ref, inc, lam, beta, psi, t_ref])\n",
    "\n",
    "modes = [(2,2), (2,1), (3,3), (3,2), (4,4), (4,3)]\n",
    "waveform_kwargs = dict(direct=False, fill=True, squeeze=False, length=1024)\n",
    "\n",
    "signal_with_noise_t = sim(seed = 42, parameters=parameters.T[0], modes=modes, waveform_kwargs=waveform_kwargs)"
   ]
  },
  {
   "cell_type": "code",
   "execution_count": 3,
   "id": "3d0fbb61",
   "metadata": {},
   "outputs": [
    {
     "name": "stdout",
     "output_type": "stream",
     "text": [
      "[3530.17281808] [3530.17281808]\n"
     ]
    }
   ],
   "source": [
    "snr_from_lisatools = sim.SNR_optimal_lisatools()\n",
    "snr_my_code = sim.SNR_optimal()\n",
    "print(snr_from_lisatools, snr_my_code)"
   ]
  },
  {
   "cell_type": "code",
   "execution_count": 4,
   "id": "d026bb49",
   "metadata": {},
   "outputs": [
    {
     "data": {
      "text/plain": [
       "6311628"
      ]
     },
     "execution_count": 4,
     "metadata": {},
     "output_type": "execute_result"
    }
   ],
   "source": [
    "sim.signal_with_noise_t.shape[2]"
   ]
  },
  {
   "cell_type": "code",
   "execution_count": 5,
   "id": "dc70596f",
   "metadata": {},
   "outputs": [
    {
     "data": {
      "text/plain": [
       "array([[ 2.79037283e+07+0.00000000e+00j,  3.75542563e-10-5.14973584e-10j,\n",
       "         4.83656882e-10-5.62939548e-10j, ...,\n",
       "         1.13318355e-11+5.58519896e-12j, -4.75170395e-14+1.01652022e-12j,\n",
       "        -1.31900268e-10+0.00000000e+00j],\n",
       "       [ 7.34455874e+07+0.00000000e+00j,  1.04099369e-09-1.42255681e-09j,\n",
       "         1.31827044e-09-1.53324993e-09j, ...,\n",
       "         2.74562861e-11+1.33526566e-11j,  1.05072177e-12+1.34621198e-11j,\n",
       "        -3.35710126e-10+0.00000000e+00j],\n",
       "       [ 1.56913451e+07+0.00000000e+00j,  2.20974534e-10-2.98847057e-10j,\n",
       "         2.72874189e-10-3.23823290e-10j, ...,\n",
       "         6.89360284e-12+3.03232194e-12j,  2.33213521e-12+1.45283669e-12j,\n",
       "        -7.40130179e-11+0.00000000e+00j]], shape=(3, 3155815))"
      ]
     },
     "execution_count": 5,
     "metadata": {},
     "output_type": "execute_result"
    }
   ],
   "source": [
    "sim.signal_with_noise_t\n",
    "\n",
    "np.fft.rfft(sim.signal_with_noise_t, axis=-1)[0]"
   ]
  },
  {
   "cell_type": "code",
   "execution_count": 6,
   "id": "2e621b26",
   "metadata": {},
   "outputs": [
    {
     "data": {
      "text/plain": [
       "array([[ 2.79037283e+07+0.00000000e+00j,  3.75542563e-10-5.14973584e-10j,\n",
       "         4.83656882e-10-5.62939548e-10j, ...,\n",
       "         1.13318355e-11+5.58519896e-12j, -4.75170395e-14+1.01652022e-12j,\n",
       "        -1.31900268e-10+0.00000000e+00j],\n",
       "       [ 7.34455874e+07+0.00000000e+00j,  1.04099369e-09-1.42255681e-09j,\n",
       "         1.31827044e-09-1.53324993e-09j, ...,\n",
       "         2.74562861e-11+1.33526566e-11j,  1.05072177e-12+1.34621198e-11j,\n",
       "        -3.35710126e-10+0.00000000e+00j],\n",
       "       [ 1.56913451e+07+0.00000000e+00j,  2.20974534e-10-2.98847057e-10j,\n",
       "         2.72874189e-10-3.23823290e-10j, ...,\n",
       "         6.89360284e-12+3.03232194e-12j,  2.33213521e-12+1.45283669e-12j,\n",
       "        -7.40130179e-11+0.00000000e+00j]], shape=(3, 3155815))"
      ]
     },
     "execution_count": 6,
     "metadata": {},
     "output_type": "execute_result"
    }
   ],
   "source": [
    "data = sim.signal_with_noise_f\n",
    "f_array = np.fft.rfftfreq(sim.signal_with_noise_t.shape[2])  # returns the correct frequency array for the signal with noise\n",
    "f_array[0] = f_array[1]  # avoid zero frequency\n",
    "data[0]"
   ]
  },
  {
   "cell_type": "code",
   "execution_count": 7,
   "id": "b7f8b808",
   "metadata": {},
   "outputs": [
    {
     "data": {
      "text/plain": [
       "(np.float64(3.168754559045622e-08),\n",
       " 31558140.0,\n",
       " 31558140.0,\n",
       " 6311628.0,\n",
       " (6311628,),\n",
       " array([0.00000000e+00, 3.16875456e-08, 6.33750912e-08, ...,\n",
       "        9.99999366e-02, 9.99999683e-02, 1.00000000e-01], shape=(3155815,)))"
      ]
     },
     "execution_count": 7,
     "metadata": {},
     "output_type": "execute_result"
    }
   ],
   "source": [
    "sim.df, len(sim.signal_with_noise_t[0,0])*sim.dt, sim.Tobs, sim.Tobs / sim.dt, sim.time.shape, sim.freq"
   ]
  },
  {
   "cell_type": "code",
   "execution_count": 8,
   "id": "9b951187",
   "metadata": {},
   "outputs": [
    {
     "data": {
      "text/plain": [
       "np.float64(0.0)"
      ]
     },
     "execution_count": 8,
     "metadata": {},
     "output_type": "execute_result"
    }
   ],
   "source": [
    "f_array[1] - f_array[0] # should be equal to sim.df"
   ]
  },
  {
   "cell_type": "code",
   "execution_count": 9,
   "id": "abac3a81",
   "metadata": {},
   "outputs": [
    {
     "data": {
      "text/plain": [
       "np.float64(-503215960796.56573)"
      ]
     },
     "execution_count": 9,
     "metadata": {},
     "output_type": "execute_result"
    }
   ],
   "source": [
    "template = wave_gen(*parameters.T[0], freqs=f_array, modes=modes, **waveform_kwargs)[0]\n",
    "get_dh(data, template, sens_mat=sim.sens_mat, df=f_array[2] - f_array[1] )"
   ]
  },
  {
   "cell_type": "code",
   "execution_count": 10,
   "id": "054b35e5",
   "metadata": {},
   "outputs": [
    {
     "data": {
      "text/plain": [
       "-503215960796.4901"
      ]
     },
     "execution_count": 10,
     "metadata": {},
     "output_type": "execute_result"
    }
   ],
   "source": [
    "\n",
    "template = DataResidualArray(template, f_arr=f_array)\n",
    "data = DataResidualArray(data[0], f_arr=f_array)\n",
    "analysis = AnalysisContainer(data_res_arr=data, sens_mat=sim.sens_mat)\n",
    "analysis.template_inner_product(template=template)"
   ]
  },
  {
   "cell_type": "markdown",
   "id": "1245fcef",
   "metadata": {},
   "source": [
    "Inner product changes from 44374.39799894732 to -503215960796.4901 if you remove the line self.freq[0] = self.freq[1] in LISASimulator"
   ]
  },
  {
   "cell_type": "code",
   "execution_count": null,
   "id": "f724dd5b",
   "metadata": {},
   "outputs": [],
   "source": []
  }
 ],
 "metadata": {
  "kernelspec": {
   "display_name": "lisa_env",
   "language": "python",
   "name": "python3"
  },
  "language_info": {
   "codemirror_mode": {
    "name": "ipython",
    "version": 3
   },
   "file_extension": ".py",
   "mimetype": "text/x-python",
   "name": "python",
   "nbconvert_exporter": "python",
   "pygments_lexer": "ipython3",
   "version": "3.12.9"
  }
 },
 "nbformat": 4,
 "nbformat_minor": 5
}
