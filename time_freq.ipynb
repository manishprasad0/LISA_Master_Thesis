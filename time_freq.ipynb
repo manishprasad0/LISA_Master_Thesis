{
 "cells": [
  {
   "cell_type": "code",
   "execution_count": 1,
   "id": "d1f42f49",
   "metadata": {},
   "outputs": [
    {
     "name": "stdout",
     "output_type": "stream",
     "text": [
      "No CuPy or GPU PhenomHM module.\n",
      "No CuPy or GPU interpolation available.\n",
      "No CuPy\n",
      "No CuPy or GPU response available.\n"
     ]
    }
   ],
   "source": [
    "import numpy as np\n",
    "import matplotlib.pyplot as plt\n",
    "#%config InlineBackend.figure_format = 'retina'  # For sharper figures, but it takes more time\n",
    "import scipy as sp\n",
    "from copy import deepcopy \n",
    "\n",
    "from lisatools.utils.constants import *\n",
    "from lisatools.sensitivity  import SensitivityMatrix, AET1SensitivityMatrix, AE1SensitivityMatrix\n",
    "from lisatools.analysiscontainer import AnalysisContainer\n",
    "from lisatools.datacontainer import DataResidualArray\n",
    "\n",
    "from bbhx.waveforms.phenomhm import PhenomHMAmpPhase\n",
    "from bbhx.waveformbuild import BBHWaveformFD\n",
    "from bbhx.utils.interpolate import CubicSplineInterpolant\n",
    "\n",
    "import noise_generation as noise_generation\n",
    "from tools.LISASimulator import LISASimulator, signal_time_to_freq_domain\n",
    "from tools.likelihood import get_dh, get_hh"
   ]
  },
  {
   "cell_type": "markdown",
   "id": "1b9edadc",
   "metadata": {},
   "source": [
    "Generating Simulated LISA data with colored noise and MBHB signal(s)"
   ]
  },
  {
   "cell_type": "code",
   "execution_count": 2,
   "id": "7306564d",
   "metadata": {},
   "outputs": [
    {
     "name": "stdout",
     "output_type": "stream",
     "text": [
      "3 (2, 6311628) (1, 2, 6311628)\n"
     ]
    }
   ],
   "source": [
    "Tobs = YRSID_SI\n",
    "dt = 5.\n",
    "include_T_channel = False\n",
    "\n",
    "wave_gen = BBHWaveformFD(amp_phase_kwargs=dict(run_phenomd=False))\n",
    "sim = LISASimulator(Tobs=Tobs, dt=dt, wave_gen=wave_gen, include_T_channel=include_T_channel)\n",
    "\n",
    "# TODO: Make it work for multiple MBHBs in the signal\n",
    "f_ref = 0.0\n",
    "phi_ref = 0.0\n",
    "m1 = 1e6\n",
    "m2 = 5e5\n",
    "a1 = 0.2\n",
    "a2 = 0.4\n",
    "dist = 10e3 * PC_SI * 1e6  # 3e3 in Mpc\n",
    "inc = np.pi/3\n",
    "beta = np.pi/4.\n",
    "lam = np.pi/5.\n",
    "psi = np.pi/6.\n",
    "t_ref = 0.5 * YRSID_SI  # in the SSB reference frame\n",
    "\n",
    "parameters = np.array([m1, m2, a1, a2, dist, phi_ref, f_ref, inc, lam, beta, psi, t_ref])\n",
    "\n",
    "modes = [(2,2), (2,1), (3,3), (3,2), (4,4), (4,3)]\n",
    "waveform_kwargs = dict(direct=False, fill=True, squeeze=False, length=1024)\n",
    "\n",
    "signal_with_noise_t = sim(seed = 42, parameters=parameters, modes=modes, waveform_kwargs=waveform_kwargs)"
   ]
  },
  {
   "cell_type": "code",
   "execution_count": 3,
   "id": "3d0fbb61",
   "metadata": {},
   "outputs": [
    {
     "name": "stdout",
     "output_type": "stream",
     "text": [
      "[3530.14340371] [3530.14340371]\n"
     ]
    }
   ],
   "source": [
    "snr_from_lisatools = sim.SNR_optimal_lisatools()\n",
    "snr_my_code = sim.SNR_optimal()\n",
    "print(snr_from_lisatools, snr_my_code)"
   ]
  },
  {
   "cell_type": "code",
   "execution_count": 12,
   "id": "2e621b26",
   "metadata": {},
   "outputs": [
    {
     "data": {
      "text/plain": [
       "array([[ 2.87997753e-15+0.00000000e+00j, -8.01664455e-16-9.14272412e-15j,\n",
       "         1.87766792e-15+4.67276244e-15j, ...,\n",
       "        -5.23505584e-17+5.48756912e-17j,  1.68362572e-17+4.01699770e-17j,\n",
       "        -6.00596015e-17+0.00000000e+00j],\n",
       "       [ 7.58040788e-15+0.00000000e+00j,  1.06930310e-15+2.58035370e-15j,\n",
       "        -5.80231866e-15+8.54461968e-16j, ...,\n",
       "         2.63527057e-17+7.97395671e-17j, -4.20193941e-17+8.92831265e-17j,\n",
       "         4.73211831e-17+0.00000000e+00j]], shape=(2, 3155815))"
      ]
     },
     "execution_count": 12,
     "metadata": {},
     "output_type": "execute_result"
    }
   ],
   "source": [
    "data = sim.signal_with_noise_f\n",
    "f_array = np.fft.rfftfreq(sim.signal_with_noise_t.shape[2])  # returns the correct frequency array for the signal with noise\n",
    "f_array[0] = f_array[1]  # avoid zero frequency\n",
    "data[0]"
   ]
  },
  {
   "cell_type": "code",
   "execution_count": 13,
   "id": "b7f8b808",
   "metadata": {},
   "outputs": [],
   "source": [
    "#sim.df, len(sim.signal_with_noise_t[0,0])*sim.dt, sim.Tobs, sim.Tobs / sim.dt, sim.time.shape, sim.freq"
   ]
  },
  {
   "cell_type": "code",
   "execution_count": 14,
   "id": "9b951187",
   "metadata": {},
   "outputs": [],
   "source": [
    "template = wave_gen(*parameters, freqs=f_array, modes=modes, **waveform_kwargs)[0]\n",
    "if include_T_channel==False:\n",
    "    template = template[:2]  # remove T channel if not included"
   ]
  },
  {
   "cell_type": "code",
   "execution_count": 15,
   "id": "abac3a81",
   "metadata": {},
   "outputs": [],
   "source": [
    "dh = get_dh(data, template, sens_mat=sim.sens_mat, df=f_array[2] - f_array[1])"
   ]
  },
  {
   "cell_type": "code",
   "execution_count": 16,
   "id": "5066fc35",
   "metadata": {},
   "outputs": [],
   "source": [
    "hh = get_hh(template, sens_mat=sim.sens_mat, df=f_array[2] - f_array[1])"
   ]
  },
  {
   "cell_type": "code",
   "execution_count": 17,
   "id": "054b35e5",
   "metadata": {},
   "outputs": [
    {
     "data": {
      "text/plain": [
       "44715.71355907657"
      ]
     },
     "execution_count": 17,
     "metadata": {},
     "output_type": "execute_result"
    }
   ],
   "source": [
    "\n",
    "template = DataResidualArray(template, f_arr=f_array)\n",
    "data = DataResidualArray(data[0], f_arr=f_array)\n",
    "analysis = AnalysisContainer(data_res_arr=data, sens_mat=sim.sens_mat)\n",
    "analysis.template_inner_product(template=template)"
   ]
  },
  {
   "cell_type": "markdown",
   "id": "1245fcef",
   "metadata": {},
   "source": [
    "Inner product changes from 44374.39799894732 to -503215960796.4901 if you remove the line self.freq[0] = self.freq[1] in LISASimulator"
   ]
  },
  {
   "cell_type": "code",
   "execution_count": 24,
   "id": "713bea80",
   "metadata": {},
   "outputs": [
    {
     "name": "stdout",
     "output_type": "stream",
     "text": [
      "optimal snr: 15774.721075949961 detected snr: 2.8346436899771854\n",
      "snrs from lisatools: (np.float64(15774.721075949961), np.float64(2.8346436899762315))\n"
     ]
    }
   ],
   "source": [
    "print(\"optimal snr:\", np.sqrt(hh), \"detected snr:\", dh/(np.sqrt(hh)))\n",
    "print(\"snrs from lisatools:\", analysis.template_snr(template=template))"
   ]
  },
  {
   "cell_type": "code",
   "execution_count": 21,
   "id": "4226f4e4",
   "metadata": {},
   "outputs": [
    {
     "data": {
      "text/plain": [
       "(np.float64(15774.721075949961), np.float64(2.8346436899762315))"
      ]
     },
     "execution_count": 21,
     "metadata": {},
     "output_type": "execute_result"
    }
   ],
   "source": [
    "analysis.template_snr(template=template)"
   ]
  }
 ],
 "metadata": {
  "kernelspec": {
   "display_name": "lisa_env",
   "language": "python",
   "name": "python3"
  },
  "language_info": {
   "codemirror_mode": {
    "name": "ipython",
    "version": 3
   },
   "file_extension": ".py",
   "mimetype": "text/x-python",
   "name": "python",
   "nbconvert_exporter": "python",
   "pygments_lexer": "ipython3",
   "version": "3.12.9"
  }
 },
 "nbformat": 4,
 "nbformat_minor": 5
}
