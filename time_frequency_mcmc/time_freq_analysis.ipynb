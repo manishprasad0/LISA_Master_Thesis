{
 "cells": [
  {
   "cell_type": "code",
   "execution_count": 1,
   "id": "d03d0039",
   "metadata": {},
   "outputs": [
    {
     "name": "stdout",
     "output_type": "stream",
     "text": [
      "No CuPy or GPU PhenomHM module.\n",
      "No CuPy or GPU interpolation available.\n",
      "No CuPy\n",
      "No CuPy or GPU response available.\n"
     ]
    }
   ],
   "source": [
    "import numpy as np\n",
    "import matplotlib.pyplot as plt\n",
    "#%config InlineBackend.figure_format = 'retina'  # For sharper figures, but it takes more time\n",
    "import scipy as sp\n",
    "from copy import deepcopy \n",
    "\n",
    "from lisatools.utils.constants import *\n",
    "from lisatools.sensitivity  import SensitivityMatrix, AET1SensitivityMatrix\n",
    "\n",
    "from bbhx.waveforms.phenomhm import PhenomHMAmpPhase\n",
    "from bbhx.waveformbuild import BBHWaveformFD\n",
    "from bbhx.utils.interpolate import CubicSplineInterpolant\n",
    "\n",
    "from lisatools.sensitivity import AET1SensitivityMatrix\n",
    "from lisatools.datacontainer import DataResidualArray\n",
    "from lisatools.analysiscontainer import AnalysisContainer\n",
    "from lisatools.diagnostic import inner_product\n",
    "\n",
    "from eryn.ensemble import EnsembleSampler\n",
    "from eryn.prior import ProbDistContainer, uniform_dist\n",
    "from eryn.state import State\n",
    "\n"
   ]
  },
  {
   "cell_type": "code",
   "execution_count": null,
   "id": "48d1d91c",
   "metadata": {},
   "outputs": [],
   "source": [
    "Tobs = YRSID_SI / 2.\n",
    "dt = 5.\n",
    "N = int(Tobs / dt)\n",
    "Tobs = N * dt\n",
    "\n",
    "freq = np.fft.rfftfreq(N,dt)\n",
    "freq[0] = freq[1]\n",
    "\n",
    "wave_gen = BBHWaveformFD(amp_phase_kwargs=dict(run_phenomd=False), use_gpu=False)\n",
    "\n",
    "m1 = 2e6\n",
    "m2 = 7e5\n",
    "chi1 = 0.5\n",
    "chi2 = 0.7\n",
    "dist = 15 * 1e9 * PC_SI\n",
    "phi_ref = 0.6\n",
    "f_ref = 0.0\n",
    "inc = np.pi / 8\n",
    "lam = 3.4\n",
    "beta = -0.7\n",
    "psi = np.pi/4\n",
    "t_ref = Tobs/2 # seconds\n",
    "\n",
    "modes = [(2,2)]\n",
    "\n",
    "wave_freq_domain = wave_gen(m1, m2, chi1, chi2,\n",
    "                            dist, phi_ref, f_ref, inc, lam,\n",
    "                            beta, psi, t_ref, \n",
    "                            freqs=freq, modes=modes, \n",
    "                            direct=False, fill=True, squeeze=True, length=1024)[0]\n",
    "\n",
    "template = wave_gen(m1*1.00001, m2, chi1, chi2,\n",
    "                            dist, phi_ref, f_ref, inc, lam,\n",
    "                            beta, psi, t_ref, \n",
    "                            freqs=freq, modes=modes, \n",
    "                            direct=False, fill=True, squeeze=True, length=1024)[0]"
   ]
  },
  {
   "cell_type": "code",
   "execution_count": 3,
   "id": "8beb4c02",
   "metadata": {},
   "outputs": [
    {
     "name": "stdout",
     "output_type": "stream",
     "text": [
      "d_d: 6618600.857962358, h_h: 6618605.279865024, d_h: (6618603.024582282+483.15209727981585j)\n",
      "-0.04433140903711319\n"
     ]
    }
   ],
   "source": [
    "def wrap(*args, **kwargs):\n",
    "    return wave_gen(*args, **kwargs)[0]\n",
    "\n",
    "data = DataResidualArray(wave_freq_domain, f_arr=freq)\n",
    "template = DataResidualArray(template, f_arr=freq)\n",
    "\n",
    "sens_mat = AET1SensitivityMatrix(data.f_arr)\n",
    "\n",
    "analysis = AnalysisContainer(data_res_arr=data, \n",
    "                             sens_mat=sens_mat, \n",
    "                             signal_gen=wrap,)   \n",
    "\n",
    "\n",
    "print(analysis.template_likelihood(template))"
   ]
  },
  {
   "cell_type": "code",
   "execution_count": null,
   "id": "1434d649",
   "metadata": {},
   "outputs": [
    {
     "name": "stdout",
     "output_type": "stream",
     "text": [
      "-1.126688686792221e-09\n"
     ]
    },
    {
     "name": "stderr",
     "output_type": "stream",
     "text": [
      "/opt/anaconda3/envs/lisa_env/lib/python3.12/site-packages/lisatools/detector.py:633: RuntimeWarning: divide by zero encountered in divide\n",
      "  Sa_a = Sa_a_in * (1.0 + (0.4e-3 / frq) ** 2) * (1.0 + (frq / 8e-3) ** 4)\n",
      "/opt/anaconda3/envs/lisa_env/lib/python3.12/site-packages/lisatools/detector.py:635: RuntimeWarning: divide by zero encountered in power\n",
      "  Sa_d = Sa_a * (2.0 * np.pi * frq) ** (-4.0)\n",
      "/opt/anaconda3/envs/lisa_env/lib/python3.12/site-packages/lisatools/detector.py:637: RuntimeWarning: invalid value encountered in multiply\n",
      "  Sa_nu = Sa_d * (2.0 * np.pi * frq / C_SI) ** 2\n",
      "/opt/anaconda3/envs/lisa_env/lib/python3.12/site-packages/lisatools/detector.py:642: RuntimeWarning: divide by zero encountered in divide\n",
      "  Soms_d = Soms_d_in * (1.0 + (2.0e-3 / f) ** 4)\n",
      "/opt/anaconda3/envs/lisa_env/lib/python3.12/site-packages/lisatools/detector.py:644: RuntimeWarning: invalid value encountered in multiply\n",
      "  Soms_nu = Soms_d * (2.0 * np.pi * frq / C_SI) ** 2\n"
     ]
    }
   ],
   "source": [
    "#print(analysis.template_likelihood_tf(template, fs=1/dt))"
   ]
  },
  {
   "cell_type": "code",
   "execution_count": null,
   "id": "bbfb8609",
   "metadata": {},
   "outputs": [],
   "source": [
    "from typing import Any, Tuple, Optional, List\n",
    "\n",
    "def tf_template_snr(\n",
    "        self, template: DataResidualArray, phase_maximize: bool = False, **kwargs: dict\n",
    "    ) -> Tuple[float, float]:\n",
    "        \"\"\"Calculate the SNR of a template, both optimal and detected.\n",
    "\n",
    "        Args:\n",
    "            template: Template signal.\n",
    "            phase_maximize: If ``True``, maximize over an overall phase.\n",
    "            **kwargs: Keyword arguments to pass to :func:`lisatools.diagnostic.inner_product`.\n",
    "\n",
    "        Returns:\n",
    "            ``(optimal snr, detected snr)``.\n",
    "\n",
    "        \"\"\"\n",
    "        kwargs_in = kwargs.copy()\n",
    "        if \"psd\" in kwargs:\n",
    "            kwargs_in.pop(\"psd\")\n",
    "\n",
    "        if \"complex\" in kwargs_in:\n",
    "            kwargs_in.pop(\"complex\")\n",
    "\n",
    "        template_tf = sp.fft.stft(template)\n",
    "        # TODO: should we cache?\n",
    "        # sum of the inner product of the template divided into time segments\n",
    "        sum_h_h = 0\n",
    "        for i in range(len(template_tf)):\n",
    "            h_h = inner_product(template_tf[i], template_tf[i], psd=self.sens_mat, **kwargs_in)\n",
    "            sum_h_h += h_h\n",
    "        non_marg_d_h = inner_product(\n",
    "            self.data_res_arr, template, psd=self.sens_mat, complex=True, **kwargs_in\n",
    "        )\n",
    "        d_h = np.abs(non_marg_d_h) if phase_maximize else non_marg_d_h.copy()\n",
    "        self.non_marg_d_h = non_marg_d_h\n",
    "\n",
    "        opt_snr = np.sqrt(h_h.real)\n",
    "        det_snr = d_h.real / opt_snr\n",
    "        return (opt_snr, det_snr)\n",
    "    \n",
    "\n",
    "def stft_inner_product(self, A_tf, B_tf, psd, f, **kwargs):\n",
    "    # loop the inner product over the time segments\n",
    "    ip = 0\n",
    "    #print(A_tf.shape[0], A_tf.shape)\n",
    "    y_A = np.divide((A_tf[0].conj() * B_tf[0]) , np.array(AET1SensitivityMatrix(f)[0].T)[:, np.newaxis])\n",
    "    y_E = np.divide((A_tf[1].conj() * B_tf[1]) , np.array(AET1SensitivityMatrix(f)[1].T)[:, np.newaxis])\n",
    "    \n",
    "    df = f[1] - f[0]\n",
    "    # df is sunk into trapz\n",
    "    tmp_out = 4 * (y_A + y_E) * df\n",
    "\n",
    "\n",
    "    return np.sum(tmp_out)\n",
    "\n",
    "\n",
    "def stft_inner_product_old(self, A_tf, B_tf, psd, f, **kwargs):\n",
    "    # loop the inner product over the time segments\n",
    "    ip = 0\n",
    "    #print(A_tf.shape[0], A_tf.shape)\n",
    "    for i in range(len(A_tf[0,0,:])):\n",
    "        ip += inner_product(A_tf[:,:,i], B_tf[:,:,i], psd=AET1SensitivityMatrix(f), f_arr=f, **kwargs)\n",
    "    return ip\n",
    "\n",
    "def template_likelihood_tf(\n",
    "    self,\n",
    "    template: DataResidualArray,\n",
    "    include_psd_info: bool = False,\n",
    "    phase_maximize: bool = False,\n",
    "    fs: float = 1.0,\n",
    "    **kwargs: dict,\n",
    "    ) -> float:\n",
    "    \"\"\"Calculate the Likelihood of a template against the data.\n",
    "\n",
    "    Args:\n",
    "        template: Template signal.\n",
    "        include_psd_info: If ``True``, add the PSD term to the Likelihood value.\n",
    "        phase_maximize: If ``True``, maximize over an overall phase.\n",
    "        fs: Sampling frequency for the STFT.\n",
    "        **kwargs: Keyword arguments to pass to :func:`lisatools.diagnostic.inner_product`.\n",
    "\n",
    "    Returns:\n",
    "        Likelihood value.\n",
    "\n",
    "    \"\"\"\n",
    "\n",
    "    kwargs_in = kwargs.copy()\n",
    "    if \"psd\" in kwargs_in:\n",
    "        kwargs_in.pop(\"psd\")\n",
    "\n",
    "    if \"complex\" in kwargs_in:\n",
    "        kwargs_in.pop(\"complex\")\n",
    "\n",
    "    nperseg = 50000  # Or another value tuned to your data\n",
    "    wave_time_domain = np.fft.irfft(self.data_res_arr.data_res_arr, axis=-1)\n",
    "    temp_time_domain = np.fft.irfft(template.data_res_arr, axis=-1)\n",
    "\n",
    "    f_data, t_data, Z_data = sp.signal.stft(wave_time_domain, fs=fs, nperseg=nperseg*fs)\n",
    "    f_temp, t_temp, Z_temp = sp.signal.stft(temp_time_domain, fs=fs, nperseg=nperseg*fs)\n",
    "\n",
    "    d_d = self.stft_inner_product(Z_data, Z_data, psd=self.sens_mat, f=f_data, **kwargs_in)\n",
    "    \n",
    "    h_h = self.stft_inner_product(Z_temp, Z_temp, psd=self.sens_mat, f=f_data, **kwargs_in)\n",
    "\n",
    "    non_marg_d_h=self.stft_inner_product(Z_data, Z_temp, psd=self.sens_mat, complex=True, f=f_data, **kwargs_in)\n",
    "    d_h = np.abs(non_marg_d_h) if phase_maximize else non_marg_d_h.copy()\n",
    "    \n",
    "    like_out = -1 / 2 * (d_d + h_h - 2 * d_h).real\n",
    "    \n",
    "    #print(f\"d_d: {d_d}, h_h: {h_h}, d_h: {d_h}\")\n",
    "\n",
    "    # TO DO: if include_psd_info\n",
    "    #         \n",
    "    return like_out\n"
   ]
  },
  {
   "cell_type": "markdown",
   "id": "b58e9e24",
   "metadata": {},
   "source": [
    "m1*1.01:        \n",
    "frequency_domain_likelihood = -38795.96126595698,   \n",
    "time_freq_domain_likelihood = -0.0009627886045756595\n",
    "\n",
    "m1*1.00001:             \n",
    "frequency_domain_likelihood = -0.04433140903711319,   \n",
    "time_freq_domain_likelihood = -1.1266905464157873e-09"
   ]
  },
  {
   "cell_type": "code",
   "execution_count": null,
   "id": "56662350",
   "metadata": {},
   "outputs": [],
   "source": []
  },
  {
   "cell_type": "code",
   "execution_count": 5,
   "id": "5b853a31",
   "metadata": {},
   "outputs": [],
   "source": [
    "fs = 1/dt\n",
    "nperseg = 50000\n",
    "wave_time_domain = np.fft.irfft(wave_freq_domain, axis=-1)\n",
    "temp_time_domain = np.fft.irfft(template.data_res_arr, axis=-1)\n",
    "\n",
    "f_data, t_data, Z_data = sp.signal.stft(wave_time_domain, fs=fs, nperseg=nperseg*fs)\n",
    "f_template, t_template, Z_template = sp.signal.stft(temp_time_domain, fs=fs, nperseg=nperseg*fs)"
   ]
  },
  {
   "cell_type": "code",
   "execution_count": 9,
   "id": "8bb198ef",
   "metadata": {},
   "outputs": [
    {
     "data": {
      "text/plain": [
       "array([[1.00000000e+10, 2.68178332e-40, 6.76239264e-41, ...,\n",
       "        1.50545438e-38, 1.50478955e-38, 1.50411994e-38],\n",
       "       [1.00000000e+10, 2.68178332e-40, 6.76239264e-41, ...,\n",
       "        1.50545438e-38, 1.50478955e-38, 1.50411994e-38],\n",
       "       [1.00000000e+10, 3.81657648e-50, 1.52663679e-49, ...,\n",
       "        5.93596288e-39, 5.92027521e-39, 5.90459820e-39]], shape=(3, 5001))"
      ]
     },
     "execution_count": 9,
     "metadata": {},
     "output_type": "execute_result"
    }
   ],
   "source": [
    "AET1SensitivityMatrix(f_data).sens_mat"
   ]
  },
  {
   "cell_type": "code",
   "execution_count": null,
   "id": "389445b4",
   "metadata": {},
   "outputs": [],
   "source": []
  },
  {
   "cell_type": "code",
   "execution_count": null,
   "id": "49489cd1",
   "metadata": {},
   "outputs": [],
   "source": []
  },
  {
   "cell_type": "code",
   "execution_count": 125,
   "id": "0c13e6f1",
   "metadata": {},
   "outputs": [
    {
     "name": "stderr",
     "output_type": "stream",
     "text": [
      "/opt/anaconda3/envs/lisa_env/lib/python3.12/site-packages/lisatools/detector.py:633: RuntimeWarning: divide by zero encountered in divide\n",
      "  Sa_a = Sa_a_in * (1.0 + (0.4e-3 / frq) ** 2) * (1.0 + (frq / 8e-3) ** 4)\n",
      "/opt/anaconda3/envs/lisa_env/lib/python3.12/site-packages/lisatools/detector.py:635: RuntimeWarning: divide by zero encountered in power\n",
      "  Sa_d = Sa_a * (2.0 * np.pi * frq) ** (-4.0)\n",
      "/opt/anaconda3/envs/lisa_env/lib/python3.12/site-packages/lisatools/detector.py:637: RuntimeWarning: invalid value encountered in multiply\n",
      "  Sa_nu = Sa_d * (2.0 * np.pi * frq / C_SI) ** 2\n",
      "/opt/anaconda3/envs/lisa_env/lib/python3.12/site-packages/lisatools/detector.py:642: RuntimeWarning: divide by zero encountered in divide\n",
      "  Soms_d = Soms_d_in * (1.0 + (2.0e-3 / f) ** 4)\n",
      "/opt/anaconda3/envs/lisa_env/lib/python3.12/site-packages/lisatools/detector.py:644: RuntimeWarning: invalid value encountered in multiply\n",
      "  Soms_nu = Soms_d * (2.0 * np.pi * frq / C_SI) ** 2\n"
     ]
    },
    {
     "name": "stdout",
     "output_type": "stream",
     "text": [
      "0.14009682365107942\n"
     ]
    }
   ],
   "source": [
    "ip = 0\n",
    "for i in range(len(Z_data[0,0,:])):\n",
    "    ip += inner_product(Z_data[:,:,i], Z_template[:,:,i], psd=AET1SensitivityMatrix(f_data), f_arr=f_data)\n",
    "print(ip)\n",
    "\n",
    "ip_original = inner_product(data, template, psd=sens_mat)"
   ]
  },
  {
   "cell_type": "code",
   "execution_count": 126,
   "id": "20940b00",
   "metadata": {},
   "outputs": [
    {
     "name": "stdout",
     "output_type": "stream",
     "text": [
      "0.14009682365107942 6581791.603641109\n"
     ]
    }
   ],
   "source": [
    "print(ip, ip_original)"
   ]
  },
  {
   "cell_type": "code",
   "execution_count": 66,
   "id": "c003fdcc",
   "metadata": {},
   "outputs": [
    {
     "data": {
      "text/plain": [
       "((5001,), (5001,), (633,))"
      ]
     },
     "execution_count": 66,
     "metadata": {},
     "output_type": "execute_result"
    }
   ],
   "source": [
    "Z_data[0,:,0].shape, f_data.shape, t_data.shape"
   ]
  },
  {
   "cell_type": "code",
   "execution_count": 75,
   "id": "0e67cfd9",
   "metadata": {},
   "outputs": [
    {
     "data": {
      "text/plain": [
       "[<matplotlib.lines.Line2D at 0x148029970>]"
      ]
     },
     "execution_count": 75,
     "metadata": {},
     "output_type": "execute_result"
    },
    {
     "data": {
      "image/png": "[encoded data removed]",
      "text/plain": [
       "<Figure size 640x480 with 1 Axes>"
      ]
     },
     "metadata": {},
     "output_type": "display_data"
    }
   ],
   "source": [
    "plt.plot(f_data, np.abs(Z_data[0,:,316]))\n",
    "#plt.pcolormesh(t_data, f_data, np.abs(Z_data[0,:,:]), shading='gouraud')"
   ]
  },
  {
   "cell_type": "code",
   "execution_count": null,
   "id": "74c50d4a",
   "metadata": {},
   "outputs": [
    {
     "ename": "ValueError",
     "evalue": "operands could not be broadcast together with shapes (5001,) (1577908,) ",
     "output_type": "error",
     "traceback": [
      "\u001b[31m---------------------------------------------------------------------------\u001b[39m",
      "\u001b[31mValueError\u001b[39m                                Traceback (most recent call last)",
      "\u001b[36mCell\u001b[39m\u001b[36m \u001b[39m\u001b[32mIn[87]\u001b[39m\u001b[32m, line 1\u001b[39m\n\u001b[32m----> \u001b[39m\u001b[32m1\u001b[39m \u001b[43minner_product\u001b[49m\u001b[43m(\u001b[49m\u001b[43mZ_data\u001b[49m\u001b[43m[\u001b[49m\u001b[43m:\u001b[49m\u001b[43m,\u001b[49m\u001b[43m:\u001b[49m\u001b[43m,\u001b[49m\u001b[32;43m0\u001b[39;49m\u001b[43m]\u001b[49m\u001b[43m,\u001b[49m\u001b[43m \u001b[49m\u001b[43mZ_template\u001b[49m\u001b[43m[\u001b[49m\u001b[43m:\u001b[49m\u001b[43m,\u001b[49m\u001b[43m:\u001b[49m\u001b[43m,\u001b[49m\u001b[32;43m0\u001b[39;49m\u001b[43m]\u001b[49m\u001b[43m,\u001b[49m\u001b[43m \u001b[49m\u001b[43mpsd\u001b[49m\u001b[43m=\u001b[49m\u001b[43manalysis\u001b[49m\u001b[43m.\u001b[49m\u001b[43msens_mat\u001b[49m\u001b[43m,\u001b[49m\u001b[43m \u001b[49m\u001b[43mf_arr\u001b[49m\u001b[43m=\u001b[49m\u001b[43mf_data\u001b[49m\u001b[43m)\u001b[49m\n",
      "\u001b[36mFile \u001b[39m\u001b[32m/opt/anaconda3/envs/lisa_env/lib/python3.12/site-packages/lisatools/diagnostic.py:148\u001b[39m, in \u001b[36minner_product\u001b[39m\u001b[34m(sig1, sig2, dt, df, f_arr, psd, psd_args, psd_kwargs, normalize, complex)\u001b[39m\n\u001b[32m    143\u001b[39m inv_psd_tmp = psd.invC[op_set[\u001b[33m\"\u001b[39m\u001b[33mpsd_ind\u001b[39m\u001b[33m\"\u001b[39m]]\n\u001b[32m    145\u001b[39m ind_start = \u001b[32m1\u001b[39m \u001b[38;5;28;01mif\u001b[39;00m np.isnan(inv_psd_tmp[\u001b[32m0\u001b[39m]) \u001b[38;5;28;01melse\u001b[39;00m \u001b[32m0\u001b[39m\n\u001b[32m    147\u001b[39m y = (\n\u001b[32m--> \u001b[39m\u001b[32m148\u001b[39m     \u001b[43mfunc\u001b[49m\u001b[43m(\u001b[49m\u001b[43mtemp1\u001b[49m\u001b[43m[\u001b[49m\u001b[43mind_start\u001b[49m\u001b[43m:\u001b[49m\u001b[43m]\u001b[49m\u001b[43m.\u001b[49m\u001b[43mconj\u001b[49m\u001b[43m(\u001b[49m\u001b[43m)\u001b[49m\u001b[43m \u001b[49m\u001b[43m*\u001b[49m\u001b[43m \u001b[49m\u001b[43mtemp2\u001b[49m\u001b[43m[\u001b[49m\u001b[43mind_start\u001b[49m\u001b[43m:\u001b[49m\u001b[43m]\u001b[49m\u001b[43m)\u001b[49m\u001b[43m \u001b[49m\u001b[43m*\u001b[49m\u001b[43m \u001b[49m\u001b[43minv_psd_tmp\u001b[49m\u001b[43m[\u001b[49m\u001b[43mind_start\u001b[49m\u001b[43m:\u001b[49m\u001b[43m]\u001b[49m\n\u001b[32m    149\u001b[39m )  \u001b[38;5;66;03m# assumes right summation rule\u001b[39;00m\n\u001b[32m    150\u001b[39m \u001b[38;5;66;03m# df is sunk into trapz\u001b[39;00m\n\u001b[32m    151\u001b[39m tmp_out = factor * \u001b[32m4\u001b[39m * xp.trapz(y, x=x[ind_start:])\n",
      "\u001b[31mValueError\u001b[39m: operands could not be broadcast together with shapes (5001,) (1577908,) "
     ]
    }
   ],
   "source": []
  },
  {
   "cell_type": "code",
   "execution_count": null,
   "id": "2abb4aa5",
   "metadata": {},
   "outputs": [],
   "source": []
  },
  {
   "cell_type": "code",
   "execution_count": 25,
   "id": "f6c8e058",
   "metadata": {},
   "outputs": [
    {
     "data": {
      "text/plain": [
       "((3, 5001, 633), (5001,), (633,))"
      ]
     },
     "execution_count": 25,
     "metadata": {},
     "output_type": "execute_result"
    }
   ],
   "source": [
    "Z_data.shape, f_data.shape, t_data.shape"
   ]
  },
  {
   "cell_type": "code",
   "execution_count": null,
   "id": "e7990d1a",
   "metadata": {},
   "outputs": [],
   "source": [
    "f, t, Z_data = sp.signal.stft(analysis.data_res_arr.data_res_arr, fs=1/dt, nperseg=50000/dt)\n",
    "np.interp(f, analysis.sens_mat._frequency_arr, analysis.sens_mat._sens_mat[2])\n",
    "#f, analysis.sens_mat._frequency_arr, analysis.sens_mat._sens_mat[0]\n",
    "\n",
    "\n",
    "f, t, Z_data"
   ]
  },
  {
   "cell_type": "code",
   "execution_count": 42,
   "id": "4a4191d5",
   "metadata": {},
   "outputs": [
    {
     "data": {
      "text/plain": [
       "array([[2.66313847e-35, 2.66313847e-35, 6.65784677e-36, ...,\n",
       "        1.50412420e-38, 1.50412207e-38, 1.50411994e-38],\n",
       "       [2.66313847e-35, 2.66313847e-35, 6.65784677e-36, ...,\n",
       "        1.50412420e-38, 1.50412207e-38, 1.50411994e-38],\n",
       "       [3.83224489e-55, 3.83224489e-55, 1.53289024e-54, ...,\n",
       "        5.90469752e-39, 5.90464786e-39, 5.90459820e-39]],\n",
       "      shape=(3, 1577908))"
      ]
     },
     "execution_count": 42,
     "metadata": {},
     "output_type": "execute_result"
    }
   ],
   "source": [
    "analysis.sens_mat.sens_mat"
   ]
  },
  {
   "cell_type": "code",
   "execution_count": 46,
   "id": "c863763c",
   "metadata": {},
   "outputs": [
    {
     "data": {
      "text/plain": [
       "[array([2.66313847e-35, 2.68180294e-40, 6.76239949e-41, ...,\n",
       "        2.66313847e-35, 2.66313847e-35, 2.66313847e-35], shape=(10000,)),\n",
       " array([2.66313847e-35, 2.68180294e-40, 6.76239949e-41, ...,\n",
       "        2.66313847e-35, 2.66313847e-35, 2.66313847e-35], shape=(10000,)),\n",
       " array([3.83224489e-55, 3.81658581e-50, 1.52663731e-49, ...,\n",
       "        3.83224489e-55, 3.83224489e-55, 3.83224489e-55], shape=(10000,))]"
      ]
     },
     "execution_count": 46,
     "metadata": {},
     "output_type": "execute_result"
    }
   ],
   "source": [
    "#sens_mat_interpolated = CubicSplineInterpolant(f, analysis.sens_mat.frequency_arr, analysis.sens_mat.sens_mat)\n",
    "\n",
    "sens_mat_interpolated = []\n",
    "for i in range(analysis.sens_mat.sens_mat.shape[0]):\n",
    "    sens_mat_interpolated.append(np.interp(f, analysis.sens_mat.frequency_arr, analysis.sens_mat.sens_mat[i]))\n",
    "sens_mat_interpolated"
   ]
  },
  {
   "cell_type": "code",
   "execution_count": null,
   "id": "e1498c37",
   "metadata": {},
   "outputs": [],
   "source": [
    "f_mesh, t_mesh, template_tf = sp.signal.stft(wave_freq_domain[0], 1/dt, nperseg=50000/dt)"
   ]
  },
  {
   "cell_type": "code",
   "execution_count": null,
   "id": "d056f3ab",
   "metadata": {},
   "outputs": [],
   "source": [
    "f_mesh.shape, t_mesh.shape, template_tf.shape"
   ]
  },
  {
   "cell_type": "code",
   "execution_count": null,
   "id": "54223597",
   "metadata": {},
   "outputs": [],
   "source": [
    "template.f_arr"
   ]
  },
  {
   "cell_type": "markdown",
   "id": "66c381c9",
   "metadata": {},
   "source": [
    "# Likelihood Calculator in TF domain"
   ]
  },
  {
   "cell_type": "code",
   "execution_count": null,
   "id": "6c1c7d84",
   "metadata": {},
   "outputs": [],
   "source": [
    "import time\n",
    "import numpy as cp\n",
    "def get_wave(self, parameters, include_T=False):\n",
    "        if self.merger_outside:\n",
    "            wave = self.wave_gen(*parameters.T, freqs=self.freq_extended_all,**self.waveform_kwargs)[0]\n",
    "            start_timer = time.time()\n",
    "            A_in_extended_all = cp.fft.irfft(wave[0])\n",
    "            E_in_extended_all = cp.fft.irfft(wave[1])\n",
    "            print('time extended', np.round(time.time() - start_timer,2))\n",
    "            start_timer = time.time()\n",
    "            A_in_extended_all = A_in_extended_all[:self.len_time]\n",
    "            E_in_extended_all = E_in_extended_all[:self.len_time]\n",
    "            print('time extended', np.round(time.time() - start_timer,2))\n",
    "            start_timer = time.time()\n",
    "            A_fs_extended_all = cp.fft.rfft(A_in_extended_all)[self.index_lower_cut:self.index_upper_cut]\n",
    "            E_fs_extended_all = cp.fft.rfft(E_in_extended_all)[self.index_lower_cut:self.index_upper_cut]\n",
    "            print('time extended fft', np.round(time.time() - start_timer,2))\n",
    "            if include_T:\n",
    "                T_in_extended_all = cp.fft.irfft(wave[2], n=self.len_extended_time)[:self.len_time]\n",
    "                T_fs_extended_all = cp.fft.rfft(T_in_extended_all)[self.index_lower_cut:self.index_upper_cut]\n",
    "                wave = np.asarray([[A_fs_extended_all, E_fs_extended_all, T_fs_extended_all]])\n",
    "            else:\n",
    "                wave = np.asarray([[A_fs_extended_all, E_fs_extended_all]])\n",
    "        else:\n",
    "            wave = self.wave_gen(*parameters.T, freqs=self.freq_new,**self.waveform_kwargs)\n",
    "        return wave"
   ]
  }
 ],
 "metadata": {
  "kernelspec": {
   "display_name": "lisa_env",
   "language": "python",
   "name": "python3"
  },
  "language_info": {
   "codemirror_mode": {
    "name": "ipython",
    "version": 3
   },
   "file_extension": ".py",
   "mimetype": "text/x-python",
   "name": "python",
   "nbconvert_exporter": "python",
   "pygments_lexer": "ipython3",
   "version": "3.12.9"
  }
 },
 "nbformat": 4,
 "nbformat_minor": 5
}
