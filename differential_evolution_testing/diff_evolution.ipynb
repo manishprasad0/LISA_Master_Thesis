{
 "cells": [
  {
   "cell_type": "code",
   "execution_count": 1,
   "id": "ecd0a05c",
   "metadata": {},
   "outputs": [
    {
     "name": "stdout",
     "output_type": "stream",
     "text": [
      "No CuPy\n",
      "No CuPy or GPU PhenomHM module.\n",
      "No CuPy or GPU interpolation available.\n",
      "No CuPy or GPU response available.\n"
     ]
    }
   ],
   "source": [
    "import os\n",
    "import sys\n",
    "sys.path.append(os.path.abspath(\"..\"))\n",
    "\n",
    "import numpy as np\n",
    "import matplotlib.pyplot as plt\n",
    "%config InlineBackend.figure_format = 'retina'  # For sharper figures, but it takes more time\n",
    "from tqdm import tqdm\n",
    "import scipy as sp\n",
    "from copy import deepcopy \n",
    "\n",
    "from lisatools.utils.constants import *\n",
    "from lisatools.sensitivity  import AE1SensitivityMatrix\n",
    "from bbhx.waveformbuild import BBHWaveformFD\n",
    "import noise_generation as noise_generation\n",
    "from tools.LISASimulator import LISASimulator\n",
    "from tools.time_freq_likelihood import TimeFreqLikelihood\n",
    "from tools.likelihood import get_dh, get_hh\n",
    "import tools.likelihood as likelihood\n",
    "\n",
    "from tools.MBHB_differential_evolution import TimeFreqSNR, MBHB_finder, transform_to_01, transform_to_parameters"
   ]
  },
  {
   "cell_type": "code",
   "execution_count": 2,
   "id": "3a789451",
   "metadata": {},
   "outputs": [
    {
     "name": "stdout",
     "output_type": "stream",
     "text": [
      "2876.387525169864\n"
     ]
    }
   ],
   "source": [
    "Tobs = YRSID_SI/12\n",
    "dt = 5.\n",
    "include_T_channel = False # Set to True if you want to include the T channel in the simulation, otherwise only A and E channels will be included.\n",
    "\n",
    "wave_gen = BBHWaveformFD(amp_phase_kwargs=dict(run_phenomd=False))\n",
    "sim = LISASimulator(Tobs=Tobs, dt=dt, wave_gen=wave_gen, include_T_channel=include_T_channel)\n",
    "\n",
    "m1 = 3e5\n",
    "m2 = 1.5e5\n",
    "a1 = 0.2\n",
    "a2 = 0.4\n",
    "dist = 5 * PC_SI * 1e9  # distance in Gpc\n",
    "phi_ref = np.pi/2\n",
    "f_ref = 0.0\n",
    "inc = np.pi/3\n",
    "lam = np.pi/1.\n",
    "beta = np.pi/4.\n",
    "psi = np.pi/4.\n",
    "t_ref = 0.95 * Tobs\n",
    "#t_ref = round(0.9 * Tobs / dt) * dt  # round to the nearest multiple of dt, to force t_ref to be a part of t_array\n",
    "\n",
    "parameters = np.array([m1, m2, a1, a2, dist, phi_ref, f_ref, inc, lam, beta, psi, t_ref])\n",
    "\n",
    "modes = [(2,2), (2,1), (3,3), (3,2), (4,4), (4,3)]\n",
    "waveform_kwargs = dict(length=1024, direct=False, fill=True, squeeze=False, modes=modes)\n",
    "\n",
    "data_t, data_f, f_array, t_array, sens_mat = sim(seed = 42, parameters=parameters, waveform_kwargs=waveform_kwargs)\n",
    "waveform_kwargs.update(freqs=f_array)\n",
    "\n",
    "print(sim.SNR_optimal()[0])"
   ]
  },
  {
   "cell_type": "markdown",
   "id": "c120e622",
   "metadata": {},
   "source": [
    "The SNR does not depend on the distance. Change the distance to see that the SNR is the same.\n",
    "You can calculate the distance based on the amplitude."
   ]
  },
  {
   "cell_type": "code",
   "execution_count": 3,
   "id": "5f4cc28d",
   "metadata": {},
   "outputs": [
    {
     "name": "stdout",
     "output_type": "stream",
     "text": [
      "2876.2995595533453\n",
      "0.00015291456035319145 0.0030582912070638295 %\n"
     ]
    }
   ],
   "source": [
    "guess_distance = dist * 1000\n",
    "template = wave_gen(\n",
    "    m1,\n",
    "    m2,\n",
    "    a1,\n",
    "    a2,\n",
    "    guess_distance, \n",
    "    phi_ref,\n",
    "    f_ref, \n",
    "    inc,\n",
    "    lam,\n",
    "    beta,\n",
    "    psi,\n",
    "    t_ref,\n",
    "    **waveform_kwargs\n",
    ")\n",
    "template = template[0, :2]\n",
    "print(likelihood.template_snr(data_f, template, AE1SensitivityMatrix(f_array), df=sim.df))\n",
    "\n",
    "hh = get_hh(template, AE1SensitivityMatrix(f_array), df=sim.df)\n",
    "dh = get_dh(data_f, template, AE1SensitivityMatrix(f_array), df=sim.df)\n",
    "amplitude = dh/hh\n",
    "new_distance = guess_distance /  amplitude\n",
    "\n",
    "print((new_distance - dist)/(PC_SI*1e9) , (new_distance-dist)*100/dist , \"%\" )"
   ]
  },
  {
   "cell_type": "markdown",
   "id": "f8d5c99e",
   "metadata": {},
   "source": [
    "Pre-Merger"
   ]
  },
  {
   "cell_type": "code",
   "execution_count": 4,
   "id": "19cd36b0",
   "metadata": {},
   "outputs": [],
   "source": [
    "time_before_merger = 60*60\n",
    "cutoff_time = t_ref - time_before_merger\n",
    "max_time = t_ref + 60*60*12\n",
    "\n",
    "def pre_merger(gravitational_wave_data_t, time_before_merger, t_ref, t_array):\n",
    "        cutoff_time = t_ref - time_before_merger\n",
    "        cutoff_index = np.searchsorted(t_array, cutoff_time)\n",
    "        data_t_truncated = gravitational_wave_data_t[:, :cutoff_index]\n",
    "        return data_t_truncated, cutoff_index\n",
    "\n",
    "data_t_truncated, cutoff_index =  pre_merger(data_t, time_before_merger, t_ref, t_array)"
   ]
  },
  {
   "cell_type": "markdown",
   "id": "ba4f9d19",
   "metadata": {},
   "source": [
    "The SNR also does not change with the time-frequency SNR with pre-merger. Change guess_distance and see that nothing changes. Also, new_distance remains the same"
   ]
  },
  {
   "cell_type": "code",
   "execution_count": 5,
   "id": "c141d6ad",
   "metadata": {},
   "outputs": [
    {
     "name": "stdout",
     "output_type": "stream",
     "text": [
      "-0.022924402780016243 -0.004584880556003249\n"
     ]
    }
   ],
   "source": [
    "guess_distance = dist * 100\n",
    "parameters_new = [\n",
    "    m1*(1 + 0.001),  # Slightly change m1 to see the effect\n",
    "    m2,\n",
    "    a1*(1 + 0.01),  # Slightly change a1 to see the effect\n",
    "    a2,\n",
    "    guess_distance,\n",
    "    phi_ref,\n",
    "    f_ref,\n",
    "    inc*(1 + 0.01),\n",
    "    lam,\n",
    "    beta,\n",
    "    psi,\n",
    "    t_ref\n",
    "]\n",
    "analysis = TimeFreqSNR(\n",
    "    data_t_truncated,\n",
    "    wave_gen=wave_gen,\n",
    "    nperseg=5000,\n",
    "    dt_full=dt,\n",
    "    cutoff_index=cutoff_index,\n",
    "    pre_merger=True\n",
    ")\n",
    "analysis.get_stft_of_data()\n",
    "SNR, amplitude = analysis.calculate_time_frequency_SNR(*parameters_new, waveform_kwargs=waveform_kwargs)\n",
    "new_distance = guess_distance /  amplitude\n",
    "print((new_distance - dist)/(PC_SI*1e9) , (new_distance-dist)/dist)"
   ]
  },
  {
   "cell_type": "markdown",
   "id": "9a55d211",
   "metadata": {},
   "source": [
    "# Differential Evolution Analysis"
   ]
  },
  {
   "cell_type": "code",
   "execution_count": 33,
   "id": "ae8c4765",
   "metadata": {},
   "outputs": [],
   "source": [
    "boundaries = {}\n",
    "boundaries['TotalMass'] = [5, 6]\n",
    "boundaries['MassRatio'] = [0.05, 0.999999]\n",
    "boundaries['Spin1'] = [-1, 1]\n",
    "boundaries['Spin2'] = [-1, 1]\n",
    "boundaries['Distance'] = [1e3, 10e3] # in Mpc\n",
    "boundaries['Phase'] = [0.0, 2 * np.pi]\n",
    "boundaries['Inclination'] = [-1, 1]\n",
    "boundaries['EclipticLongitude'] = [0, 2*np.pi]\n",
    "boundaries['EclipticLatitude'] = [-1, 1]\n",
    "boundaries['Polarization'] = [0, np.pi]\n",
    "boundaries['CoalescenceTime'] = [cutoff_time, max_time]  \n",
    "\n",
    "parameters_sample = ['TotalMass', 'MassRatio', 'Spin1', 'Spin2', 'Distance', 'Phase', 'Inclination', 'EclipticLongitude', 'EclipticLatitude', 'Polarization', 'CoalescenceTime']\n"
   ]
  },
  {
   "cell_type": "code",
   "execution_count": 76,
   "id": "e292dd5f",
   "metadata": {},
   "outputs": [
    {
     "data": {
      "text/plain": [
       "(12,)"
      ]
     },
     "execution_count": 76,
     "metadata": {},
     "output_type": "execute_result"
    }
   ],
   "source": [
    "transformed_parameters = [\n",
    "    m1+m2,  # TotalMass\n",
    "    m2/m1,  # MassRatio\n",
    "    a1,      # Spin1\n",
    "    a2,      # Spin2\n",
    "    phi_ref,  # Phase\n",
    "    np.cos(inc),  # Inclination\n",
    "    lam,     # EclipticLongitude\n",
    "    np.sin(beta),  # EclipticLatitude\n",
    "    psi,     # Polarization\n",
    "    t_ref     # CoalescenceTime\n",
    "]\n",
    "params = np.zeros(len(transformed_parameters) + 2)  # +2 for f_ref and distance\n",
    "params[:4] = transformed_parameters[:4]                                                                                             # mT, q, a1, a2\n",
    "params[4] = boundaries['Distance'][0] + 0.5 * (boundaries['Distance'][1] - boundaries['Distance'][0])    # dL\n",
    "params[5] = transformed_parameters[4]                                                                                               # phase                   \n",
    "params[6] = 0.0                                                                                                         # f_ref is set to 0.0\n",
    "params[7:] = transformed_parameters[5:]             \n",
    "\n",
    "params.shape"
   ]
  },
  {
   "cell_type": "code",
   "execution_count": 55,
   "id": "8c0aa5cb",
   "metadata": {},
   "outputs": [
    {
     "name": "stdout",
     "output_type": "stream",
     "text": [
      "[5.163066015413886, 0.5212651786892647, -0.5101380253867513, -0.5696347165725932, 2558.928891170206, 2.2269076611067757, -0.05029180373328179, 5.190064922032512, 0.04078993688552557, 2.182130917138483, 2503625.6844858043]\n"
     ]
    }
   ],
   "source": [
    "def draw_random_point(boundaries):\n",
    "    \"\"\"\n",
    "    Draw a random point uniformly from each parameter's range.\n",
    "\n",
    "    Parameters:\n",
    "        boundaries (dict): Dictionary where each key is a parameter name and \n",
    "                           each value is a list [min, max].\n",
    "\n",
    "    Returns:\n",
    "        dict: Dictionary with a random value for each parameter.\n",
    "    \"\"\"\n",
    "    return {key: np.random.uniform(low, high) for key, (low, high) in boundaries.items()}\n",
    "random_point = draw_random_point(boundaries)\n",
    "#print(random_point)\n",
    "random_array = [random_point[param] for param in parameters_sample]\n",
    "print(random_array)"
   ]
  }
 ],
 "metadata": {
  "kernelspec": {
   "display_name": "lisa_env",
   "language": "python",
   "name": "python3"
  },
  "language_info": {
   "codemirror_mode": {
    "name": "ipython",
    "version": 3
   },
   "file_extension": ".py",
   "mimetype": "text/x-python",
   "name": "python",
   "nbconvert_exporter": "python",
   "pygments_lexer": "ipython3",
   "version": "3.12.9"
  }
 },
 "nbformat": 4,
 "nbformat_minor": 5
}
