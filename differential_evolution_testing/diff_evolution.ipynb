{
 "cells": [
  {
   "cell_type": "code",
   "execution_count": 1,
   "id": "ecd0a05c",
   "metadata": {},
   "outputs": [
    {
     "name": "stdout",
     "output_type": "stream",
     "text": [
      "No CuPy\n",
      "No CuPy or GPU PhenomHM module.\n",
      "No CuPy or GPU interpolation available.\n",
      "No CuPy or GPU response available.\n"
     ]
    }
   ],
   "source": [
    "import os\n",
    "import sys\n",
    "sys.path.append(os.path.abspath(\"..\"))\n",
    "\n",
    "import numpy as np\n",
    "import matplotlib.pyplot as plt\n",
    "%config InlineBackend.figure_format = 'retina'  # For sharper figures, but it takes more time\n",
    "from tqdm import tqdm\n",
    "import scipy as sp\n",
    "from copy import deepcopy \n",
    "\n",
    "from lisatools.utils.constants import *\n",
    "from lisatools.sensitivity  import AE1SensitivityMatrix\n",
    "from bbhx.waveformbuild import BBHWaveformFD\n",
    "import noise_generation as noise_generation\n",
    "from tools.LISASimulator import LISASimulator\n",
    "from tools.time_freq_likelihood import TimeFreqLikelihood\n",
    "from tools.likelihood import get_dh, get_hh\n",
    "import tools.likelihood as likelihood\n",
    "\n",
    "from tools.MBHB_differential_evolution import TimeFreqSNR, MBHB_finder, transform_to_01, transform_to_parameters"
   ]
  },
  {
   "cell_type": "code",
   "execution_count": 2,
   "id": "3a789451",
   "metadata": {},
   "outputs": [
    {
     "name": "stdout",
     "output_type": "stream",
     "text": [
      "2876.387525169864\n"
     ]
    }
   ],
   "source": [
    "Tobs = YRSID_SI/12\n",
    "dt = 5.\n",
    "include_T_channel = False # Set to True if you want to include the T channel in the simulation, otherwise only A and E channels will be included.\n",
    "\n",
    "wave_gen = BBHWaveformFD(amp_phase_kwargs=dict(run_phenomd=False))\n",
    "sim = LISASimulator(Tobs=Tobs, dt=dt, wave_gen=wave_gen, include_T_channel=include_T_channel)\n",
    "\n",
    "m1 = 3e5\n",
    "m2 = 1.5e5\n",
    "a1 = 0.2\n",
    "a2 = 0.4\n",
    "dist = 5 * PC_SI * 1e9  # distance in Gpc\n",
    "phi_ref = np.pi/2\n",
    "f_ref = 0.0\n",
    "inc = np.pi/3\n",
    "lam = np.pi/1.\n",
    "beta = np.pi/4.\n",
    "psi = np.pi/4.\n",
    "t_ref = 0.95 * Tobs\n",
    "#t_ref = round(0.9 * Tobs / dt) * dt  # round to the nearest multiple of dt, to force t_ref to be a part of t_array\n",
    "\n",
    "parameters = np.array([m1, m2, a1, a2, dist, phi_ref, f_ref, inc, lam, beta, psi, t_ref])\n",
    "\n",
    "modes = [(2,2), (2,1), (3,3), (3,2), (4,4), (4,3)]\n",
    "waveform_kwargs = dict(length=1024, direct=False, fill=True, squeeze=False, modes=modes)\n",
    "\n",
    "data_t, data_f, f_array, t_array, sens_mat = sim(seed = 42, parameters=parameters, waveform_kwargs=waveform_kwargs)\n",
    "waveform_kwargs.update(freqs=f_array)\n",
    "\n",
    "print(sim.SNR_optimal()[0])"
   ]
  },
  {
   "cell_type": "markdown",
   "id": "c120e622",
   "metadata": {},
   "source": [
    "The SNR does not depend on the distance. Change the distance to see that the SNR is the same.\n",
    "You can calculate the distance based on the amplitude."
   ]
  },
  {
   "cell_type": "code",
   "execution_count": 3,
   "id": "5f4cc28d",
   "metadata": {},
   "outputs": [
    {
     "name": "stdout",
     "output_type": "stream",
     "text": [
      "2876.2995595533453\n",
      "0.00015291456035319145 0.0030582912070638295 %\n"
     ]
    }
   ],
   "source": [
    "guess_distance = dist * 1000\n",
    "template = wave_gen(\n",
    "    m1,\n",
    "    m2,\n",
    "    a1,\n",
    "    a2,\n",
    "    guess_distance, \n",
    "    phi_ref,\n",
    "    f_ref, \n",
    "    inc,\n",
    "    lam,\n",
    "    beta,\n",
    "    psi,\n",
    "    t_ref,\n",
    "    **waveform_kwargs\n",
    ")\n",
    "template = template[0, :2]\n",
    "print(likelihood.template_snr(data_f, template, AE1SensitivityMatrix(f_array), df=sim.df))\n",
    "\n",
    "hh = get_hh(template, AE1SensitivityMatrix(f_array), df=sim.df)\n",
    "dh = get_dh(data_f, template, AE1SensitivityMatrix(f_array), df=sim.df)\n",
    "amplitude = dh/hh\n",
    "new_distance = guess_distance /  amplitude\n",
    "\n",
    "print((new_distance - dist)/(PC_SI*1e9) , (new_distance-dist)*100/dist , \"%\" )"
   ]
  },
  {
   "cell_type": "markdown",
   "id": "f8d5c99e",
   "metadata": {},
   "source": [
    "Pre-Merger"
   ]
  },
  {
   "cell_type": "code",
   "execution_count": 4,
   "id": "19cd36b0",
   "metadata": {},
   "outputs": [],
   "source": [
    "time_before_merger = 60*60\n",
    "cutoff_time = t_ref - time_before_merger\n",
    "max_time = t_ref + 60*60*12\n",
    "\n",
    "def pre_merger(gravitational_wave_data_t, time_before_merger, t_ref, t_array):\n",
    "        cutoff_time = t_ref - time_before_merger\n",
    "        cutoff_index = np.searchsorted(t_array, cutoff_time)\n",
    "        data_t_truncated = gravitational_wave_data_t[:, :cutoff_index]\n",
    "        return data_t_truncated, cutoff_index\n",
    "\n",
    "data_t_truncated, cutoff_index =  pre_merger(data_t, time_before_merger, t_ref, t_array)"
   ]
  },
  {
   "cell_type": "markdown",
   "id": "ba4f9d19",
   "metadata": {},
   "source": [
    "The SNR also does not change with the time-frequency SNR with pre-merger. Change guess_distance and see that nothing changes. Also, new_distance remains the same"
   ]
  },
  {
   "cell_type": "code",
   "execution_count": 5,
   "id": "c141d6ad",
   "metadata": {},
   "outputs": [
    {
     "name": "stdout",
     "output_type": "stream",
     "text": [
      "-0.022924402780016243 -0.004584880556003249\n"
     ]
    }
   ],
   "source": [
    "guess_distance = dist * 100\n",
    "parameters_new = [\n",
    "    m1*(1 + 0.001),  # Slightly change m1 to see the effect\n",
    "    m2,\n",
    "    a1*(1 + 0.01),  # Slightly change a1 to see the effect\n",
    "    a2,\n",
    "    guess_distance,\n",
    "    phi_ref,\n",
    "    f_ref,\n",
    "    inc*(1 + 0.01),\n",
    "    lam,\n",
    "    beta,\n",
    "    psi,\n",
    "    t_ref\n",
    "]\n",
    "analysis = TimeFreqSNR(\n",
    "    data_t_truncated,\n",
    "    wave_gen=wave_gen,\n",
    "    nperseg=5000,\n",
    "    dt_full=dt,\n",
    "    cutoff_index=cutoff_index,\n",
    "    pre_merger=True\n",
    ")\n",
    "analysis.get_stft_of_data()\n",
    "SNR, amplitude = analysis.calculate_time_frequency_SNR(*parameters_new, waveform_kwargs=waveform_kwargs)\n",
    "new_distance = guess_distance /  amplitude\n",
    "print((new_distance - dist)/(PC_SI*1e9) , (new_distance-dist)/dist)"
   ]
  },
  {
   "cell_type": "markdown",
   "id": "9a55d211",
   "metadata": {},
   "source": [
    "# Differential Evolution Analysis"
   ]
  },
  {
   "cell_type": "code",
   "execution_count": 6,
   "id": "ae8c4765",
   "metadata": {},
   "outputs": [],
   "source": [
    "boundaries = {}\n",
    "boundaries['TotalMass'] = [5, 6]\n",
    "boundaries['MassRatio'] = [1, 10]\n",
    "boundaries['Spin1'] = [-1, 1]\n",
    "boundaries['Spin2'] = [-1, 1]\n",
    "boundaries['Distance'] = [0.5*PC_SI*1e9, 1000*PC_SI*1e9]\n",
    "boundaries['Phase'] = [-np.pi, np.pi]\n",
    "boundaries['Inclination'] = [-1, 1]\n",
    "boundaries['EclipticLongitude'] = [0, 2*np.pi]\n",
    "boundaries['EclipticLatitude'] = [-1, 1]\n",
    "boundaries['Polarization'] = [0, np.pi]\n",
    "boundaries['CoalescenceTime'] = [cutoff_time, max_time]  \n",
    "\n",
    "parameters_sample = ['TotalMass', 'MassRatio', 'Spin1', 'Spin2', 'Distance', 'Phase', 'Inclination', 'EclipticLongitude', 'EclipticLatitude', 'Polarization', 'CoalescenceTime']\n"
   ]
  },
  {
   "cell_type": "code",
   "execution_count": 7,
   "id": "33d96421",
   "metadata": {},
   "outputs": [],
   "source": [
    "initial_guess01 = np.array([np.random.rand(len(boundaries))])\n",
    "initial_guess = transform_to_parameters(initial_guess01, boundaries, parameters_sample)\n",
    "initial_guess01 = transform_to_01(initial_guess, boundaries, parameters_sample)\n",
    "bounds = []\n",
    "for i in range(len(boundaries)):\n",
    "    bounds.append((0,1))\n",
    "initial_guess01_without_distance = np.append(initial_guess01[:,:4],initial_guess01[:,5:])\n",
    "params01 = initial_guess01_without_distance"
   ]
  },
  {
   "cell_type": "code",
   "execution_count": null,
   "id": "3e00334b",
   "metadata": {},
   "outputs": [],
   "source": []
  },
  {
   "cell_type": "code",
   "execution_count": 8,
   "id": "e9afe62d",
   "metadata": {},
   "outputs": [],
   "source": [
    "params01_with_distance = np.zeros(len(params01)+1)\n",
    "params01_with_distance[:4] = params01[:4]\n",
    "params01_with_distance[4] = 0.5                 # FIXING THE DISTANCE TO 0.5 Gpc FOR DIFFERENTIAL EVOLUTION.\n",
    "params01_with_distance[5:] = params01[4:]\n",
    "params = transform_to_parameters(params01_with_distance, boundaries, parameters_sample)\n"
   ]
  },
  {
   "cell_type": "code",
   "execution_count": 9,
   "id": "044de130",
   "metadata": {},
   "outputs": [
    {
     "data": {
      "text/plain": [
       "(array([ 2.06650473e+05,  2.08531175e+04, -9.39095225e-01,  5.38192118e-01,\n",
       "         1.54361021e+28, -1.08559879e+00,  1.06322055e+00,  4.29912384e+00,\n",
       "        -1.20933957e+00,  1.35602109e+00,  2.50675690e+06]),\n",
       " 1.5428387907456836e+25)"
      ]
     },
     "execution_count": 9,
     "metadata": {},
     "output_type": "execute_result"
    }
   ],
   "source": [
    "params, 0.5*PC_SI*1e9"
   ]
  },
  {
   "cell_type": "code",
   "execution_count": null,
   "id": "419cb40b",
   "metadata": {},
   "outputs": [],
   "source": [
    "MBHB_finder = MBHB_finder(data_t_truncated,\n",
    "                          wave_gen = BBHWaveformFD(amp_phase_kwargs=dict(run_phenomd=False)),\n",
    "                          cutoff_index, waveform_kwargs, boundaries, pre_merger=True)\n",
    "MBHB_finder.get_stft_of_data()\n",
    "#x = MBHB_finder.find_MBHB(boundaries=boundaries, )"
   ]
  },
  {
   "cell_type": "code",
   "execution_count": 11,
   "id": "f7986db8",
   "metadata": {},
   "outputs": [
    {
     "data": {
      "text/plain": [
       "(array([0.35698826, 0.98997911, 0.03045239, 0.76909606, 0.5       ,\n",
       "        0.32722159, 0.74303004, 0.68422681, 0.03230867, 0.43163492,\n",
       "        0.25648231]),\n",
       " array([0.35698826, 0.98997911, 0.03045239, 0.76909606, 0.32722159,\n",
       "        0.74303004, 0.68422681, 0.03230867, 0.43163492, 0.25648231]))"
      ]
     },
     "execution_count": 11,
     "metadata": {},
     "output_type": "execute_result"
    }
   ],
   "source": [
    "params01_with_distance, params01"
   ]
  },
  {
   "cell_type": "code",
   "execution_count": 12,
   "id": "474ca84e",
   "metadata": {},
   "outputs": [],
   "source": [
    "params01_with_distance = np.zeros(len(params01)+1)\n",
    "params01_with_distance[:4] = params01[:4]\n",
    "params01_with_distance[4] = 0.5                 # FIXING THE DISTANCE TO 0.5 Gpc FOR DIFFERENTIAL EVOLUTION.\n",
    "params01_with_distance[5:] = params01[4:]"
   ]
  },
  {
   "cell_type": "code",
   "execution_count": 13,
   "id": "1cd88752",
   "metadata": {},
   "outputs": [
    {
     "data": {
      "text/plain": [
       "np.float64(-0.0014695610986966566)"
      ]
     },
     "execution_count": 13,
     "metadata": {},
     "output_type": "execute_result"
    }
   ],
   "source": [
    "MBHB_finder.calculate_time_frequency_SNR_without_distance(params01)"
   ]
  },
  {
   "cell_type": "code",
   "execution_count": 14,
   "id": "86cdbc84",
   "metadata": {},
   "outputs": [
    {
     "name": "stdout",
     "output_type": "stream",
     "text": [
      "time SNR  0.26\n",
      "initial guess -0.0013950643189278198\n"
     ]
    },
    {
     "ename": "ValueError",
     "evalue": "operands could not be broadcast together with shapes (10,) (11,) ",
     "output_type": "error",
     "traceback": [
      "\u001b[31m---------------------------------------------------------------------------\u001b[39m",
      "\u001b[31mValueError\u001b[39m                                Traceback (most recent call last)",
      "\u001b[36mCell\u001b[39m\u001b[36m \u001b[39m\u001b[32mIn[14]\u001b[39m\u001b[32m, line 1\u001b[39m\n\u001b[32m----> \u001b[39m\u001b[32m1\u001b[39m \u001b[43mMBHB_finder\u001b[49m\u001b[43m.\u001b[49m\u001b[43mfind_MBHB\u001b[49m\u001b[43m(\u001b[49m\u001b[43m)\u001b[49m\n",
      "\u001b[36mFile \u001b[39m\u001b[32m~/Documents/LISA_Master_Thesis/tools/MBHB_differential_evolution.py:294\u001b[39m, in \u001b[36mMBHB_finder.find_MBHB\u001b[39m\u001b[34m(self)\u001b[39m\n\u001b[32m    291\u001b[39m \u001b[38;5;28mprint\u001b[39m(\u001b[33m'\u001b[39m\u001b[33minitial guess\u001b[39m\u001b[33m'\u001b[39m, SNR)\n\u001b[32m    292\u001b[39m time_start = time.time()\n\u001b[32m--> \u001b[39m\u001b[32m294\u001b[39m result01 = \u001b[43msp\u001b[49m\u001b[43m.\u001b[49m\u001b[43moptimize\u001b[49m\u001b[43m.\u001b[49m\u001b[43mdifferential_evolution\u001b[49m\u001b[43m(\u001b[49m\u001b[38;5;28;43mself\u001b[39;49m\u001b[43m.\u001b[49m\u001b[43mcalculate_time_frequency_SNR_without_distance\u001b[49m\u001b[43m,\u001b[49m\u001b[43m \u001b[49m\n\u001b[32m    295\u001b[39m \u001b[43m                                              \u001b[49m\u001b[43mbounds\u001b[49m\u001b[43m=\u001b[49m\u001b[43mbounds\u001b[49m\u001b[43m,\u001b[49m\u001b[43m \u001b[49m\n\u001b[32m    296\u001b[39m \u001b[43m                                              \u001b[49m\u001b[43mdisp\u001b[49m\u001b[43m=\u001b[49m\u001b[38;5;28;43;01mTrue\u001b[39;49;00m\u001b[43m,\u001b[49m\u001b[43m \u001b[49m\n\u001b[32m    297\u001b[39m \u001b[43m                                              \u001b[49m\u001b[43mstrategy\u001b[49m\u001b[43m=\u001b[49m\u001b[33;43m'\u001b[39;49m\u001b[33;43mbest1exp\u001b[39;49m\u001b[33;43m'\u001b[39;49m\u001b[43m,\u001b[49m\u001b[43m \u001b[49m\n\u001b[32m    298\u001b[39m \u001b[43m                                              \u001b[49m\u001b[43mpopsize\u001b[49m\u001b[43m=\u001b[49m\u001b[32;43m10\u001b[39;49m\u001b[43m,\u001b[49m\n\u001b[32m    299\u001b[39m \u001b[43m                                              \u001b[49m\u001b[43mtol\u001b[49m\u001b[43m=\u001b[49m\u001b[43m \u001b[49m\u001b[32;43m1e-8\u001b[39;49m\u001b[43m,\u001b[49m\u001b[43m \u001b[49m\n\u001b[32m    300\u001b[39m \u001b[43m                                              \u001b[49m\u001b[43mmaxiter\u001b[49m\u001b[43m=\u001b[49m\u001b[32;43m500\u001b[39;49m\u001b[43m,\u001b[49m\u001b[43m \u001b[49m\n\u001b[32m    301\u001b[39m \u001b[43m                                              \u001b[49m\u001b[43mrecombination\u001b[49m\u001b[43m=\u001b[49m\u001b[43m \u001b[49m\u001b[32;43m1\u001b[39;49m\u001b[43m,\u001b[49m\u001b[43m \u001b[49m\n\u001b[32m    302\u001b[39m \u001b[43m                                              \u001b[49m\u001b[43mmutation\u001b[49m\u001b[43m=\u001b[49m\u001b[43m(\u001b[49m\u001b[32;43m0.5\u001b[39;49m\u001b[43m,\u001b[49m\u001b[32;43m1\u001b[39;49m\u001b[43m)\u001b[49m\u001b[43m,\u001b[49m\u001b[43m \u001b[49m\n\u001b[32m    303\u001b[39m \u001b[43m                                              \u001b[49m\u001b[43mx0\u001b[49m\u001b[43m=\u001b[49m\u001b[43minitial_guess01_without_distance\u001b[49m\u001b[43m,\u001b[49m\u001b[43m \u001b[49m\n\u001b[32m    304\u001b[39m \u001b[43m                                              \u001b[49m\u001b[43mpolish\u001b[49m\u001b[43m=\u001b[49m\u001b[38;5;28;43;01mTrue\u001b[39;49;00m\u001b[43m)\u001b[49m\n\u001b[32m    306\u001b[39m \u001b[38;5;28mprint\u001b[39m(\u001b[33m'\u001b[39m\u001b[33mtime DE \u001b[39m\u001b[33m'\u001b[39m,np.round(time.time() - time_start,\u001b[32m2\u001b[39m))\n\u001b[32m    307\u001b[39m \u001b[38;5;28mprint\u001b[39m(result01)\n",
      "\u001b[36mFile \u001b[39m\u001b[32m/opt/anaconda3/envs/lisa_env/lib/python3.12/site-packages/scipy/_lib/_util.py:440\u001b[39m, in \u001b[36m_transition_to_rng.<locals>.decorator.<locals>.wrapper\u001b[39m\u001b[34m(*args, **kwargs)\u001b[39m\n\u001b[32m    433\u001b[39m     message = (\n\u001b[32m    434\u001b[39m         \u001b[33m\"\u001b[39m\u001b[33mThe NumPy global RNG was seeded by calling \u001b[39m\u001b[33m\"\u001b[39m\n\u001b[32m    435\u001b[39m         \u001b[33mf\u001b[39m\u001b[33m\"\u001b[39m\u001b[33m`np.random.seed`. Beginning in \u001b[39m\u001b[38;5;132;01m{\u001b[39;00mend_version\u001b[38;5;132;01m}\u001b[39;00m\u001b[33m, this \u001b[39m\u001b[33m\"\u001b[39m\n\u001b[32m    436\u001b[39m         \u001b[33m\"\u001b[39m\u001b[33mfunction will no longer use the global RNG.\u001b[39m\u001b[33m\"\u001b[39m\n\u001b[32m    437\u001b[39m     ) + cmn_msg\n\u001b[32m    438\u001b[39m     warnings.warn(message, \u001b[38;5;167;01mFutureWarning\u001b[39;00m, stacklevel=\u001b[32m2\u001b[39m)\n\u001b[32m--> \u001b[39m\u001b[32m440\u001b[39m \u001b[38;5;28;01mreturn\u001b[39;00m \u001b[43mfun\u001b[49m\u001b[43m(\u001b[49m\u001b[43m*\u001b[49m\u001b[43margs\u001b[49m\u001b[43m,\u001b[49m\u001b[43m \u001b[49m\u001b[43m*\u001b[49m\u001b[43m*\u001b[49m\u001b[43mkwargs\u001b[49m\u001b[43m)\u001b[49m\n",
      "\u001b[36mFile \u001b[39m\u001b[32m/opt/anaconda3/envs/lisa_env/lib/python3.12/site-packages/scipy/optimize/_differentialevolution.py:486\u001b[39m, in \u001b[36mdifferential_evolution\u001b[39m\u001b[34m(func, bounds, args, strategy, maxiter, popsize, tol, mutation, recombination, rng, callback, disp, polish, init, atol, updating, workers, constraints, x0, integrality, vectorized)\u001b[39m\n\u001b[32m     31\u001b[39m \u001b[38;5;250m\u001b[39m\u001b[33mr\u001b[39m\u001b[33;03m\"\"\"Finds the global minimum of a multivariate function.\u001b[39;00m\n\u001b[32m     32\u001b[39m \n\u001b[32m     33\u001b[39m \u001b[33;03mThe differential evolution method [1]_ is stochastic in nature. It does\u001b[39;00m\n\u001b[32m   (...)\u001b[39m\u001b[32m    481\u001b[39m \n\u001b[32m    482\u001b[39m \u001b[33;03m\"\"\"\u001b[39;00m\u001b[38;5;66;03m# noqa: E501\u001b[39;00m\n\u001b[32m    484\u001b[39m \u001b[38;5;66;03m# using a context manager means that any created Pool objects are\u001b[39;00m\n\u001b[32m    485\u001b[39m \u001b[38;5;66;03m# cleared up.\u001b[39;00m\n\u001b[32m--> \u001b[39m\u001b[32m486\u001b[39m \u001b[38;5;28;01mwith\u001b[39;00m \u001b[43mDifferentialEvolutionSolver\u001b[49m\u001b[43m(\u001b[49m\u001b[43mfunc\u001b[49m\u001b[43m,\u001b[49m\u001b[43m \u001b[49m\u001b[43mbounds\u001b[49m\u001b[43m,\u001b[49m\u001b[43m \u001b[49m\u001b[43margs\u001b[49m\u001b[43m=\u001b[49m\u001b[43margs\u001b[49m\u001b[43m,\u001b[49m\n\u001b[32m    487\u001b[39m \u001b[43m                                 \u001b[49m\u001b[43mstrategy\u001b[49m\u001b[43m=\u001b[49m\u001b[43mstrategy\u001b[49m\u001b[43m,\u001b[49m\n\u001b[32m    488\u001b[39m \u001b[43m                                 \u001b[49m\u001b[43mmaxiter\u001b[49m\u001b[43m=\u001b[49m\u001b[43mmaxiter\u001b[49m\u001b[43m,\u001b[49m\n\u001b[32m    489\u001b[39m \u001b[43m                                 \u001b[49m\u001b[43mpopsize\u001b[49m\u001b[43m=\u001b[49m\u001b[43mpopsize\u001b[49m\u001b[43m,\u001b[49m\u001b[43m \u001b[49m\u001b[43mtol\u001b[49m\u001b[43m=\u001b[49m\u001b[43mtol\u001b[49m\u001b[43m,\u001b[49m\n\u001b[32m    490\u001b[39m \u001b[43m                                 \u001b[49m\u001b[43mmutation\u001b[49m\u001b[43m=\u001b[49m\u001b[43mmutation\u001b[49m\u001b[43m,\u001b[49m\n\u001b[32m    491\u001b[39m \u001b[43m                                 \u001b[49m\u001b[43mrecombination\u001b[49m\u001b[43m=\u001b[49m\u001b[43mrecombination\u001b[49m\u001b[43m,\u001b[49m\n\u001b[32m    492\u001b[39m \u001b[43m                                 \u001b[49m\u001b[43mrng\u001b[49m\u001b[43m=\u001b[49m\u001b[43mrng\u001b[49m\u001b[43m,\u001b[49m\u001b[43m \u001b[49m\u001b[43mpolish\u001b[49m\u001b[43m=\u001b[49m\u001b[43mpolish\u001b[49m\u001b[43m,\u001b[49m\n\u001b[32m    493\u001b[39m \u001b[43m                                 \u001b[49m\u001b[43mcallback\u001b[49m\u001b[43m=\u001b[49m\u001b[43mcallback\u001b[49m\u001b[43m,\u001b[49m\n\u001b[32m    494\u001b[39m \u001b[43m                                 \u001b[49m\u001b[43mdisp\u001b[49m\u001b[43m=\u001b[49m\u001b[43mdisp\u001b[49m\u001b[43m,\u001b[49m\u001b[43m \u001b[49m\u001b[43minit\u001b[49m\u001b[43m=\u001b[49m\u001b[43minit\u001b[49m\u001b[43m,\u001b[49m\u001b[43m \u001b[49m\u001b[43matol\u001b[49m\u001b[43m=\u001b[49m\u001b[43matol\u001b[49m\u001b[43m,\u001b[49m\n\u001b[32m    495\u001b[39m \u001b[43m                                 \u001b[49m\u001b[43mupdating\u001b[49m\u001b[43m=\u001b[49m\u001b[43mupdating\u001b[49m\u001b[43m,\u001b[49m\n\u001b[32m    496\u001b[39m \u001b[43m                                 \u001b[49m\u001b[43mworkers\u001b[49m\u001b[43m=\u001b[49m\u001b[43mworkers\u001b[49m\u001b[43m,\u001b[49m\n\u001b[32m    497\u001b[39m \u001b[43m                                 \u001b[49m\u001b[43mconstraints\u001b[49m\u001b[43m=\u001b[49m\u001b[43mconstraints\u001b[49m\u001b[43m,\u001b[49m\n\u001b[32m    498\u001b[39m \u001b[43m                                 \u001b[49m\u001b[43mx0\u001b[49m\u001b[43m=\u001b[49m\u001b[43mx0\u001b[49m\u001b[43m,\u001b[49m\n\u001b[32m    499\u001b[39m \u001b[43m                                 \u001b[49m\u001b[43mintegrality\u001b[49m\u001b[43m=\u001b[49m\u001b[43mintegrality\u001b[49m\u001b[43m,\u001b[49m\n\u001b[32m    500\u001b[39m \u001b[43m                                 \u001b[49m\u001b[43mvectorized\u001b[49m\u001b[43m=\u001b[49m\u001b[43mvectorized\u001b[49m\u001b[43m)\u001b[49m \u001b[38;5;28;01mas\u001b[39;00m solver:\n\u001b[32m    501\u001b[39m     ret = solver.solve()\n\u001b[32m    503\u001b[39m \u001b[38;5;28;01mreturn\u001b[39;00m ret\n",
      "\u001b[36mFile \u001b[39m\u001b[32m/opt/anaconda3/envs/lisa_env/lib/python3.12/site-packages/scipy/optimize/_differentialevolution.py:956\u001b[39m, in \u001b[36mDifferentialEvolutionSolver.__init__\u001b[39m\u001b[34m(self, func, bounds, args, strategy, maxiter, popsize, tol, mutation, recombination, rng, maxfun, callback, disp, polish, init, atol, updating, workers, constraints, x0, integrality, vectorized)\u001b[39m\n\u001b[32m    951\u001b[39m     \u001b[38;5;28mself\u001b[39m.init_population_array(init)\n\u001b[32m    953\u001b[39m \u001b[38;5;28;01mif\u001b[39;00m x0 \u001b[38;5;129;01mis\u001b[39;00m \u001b[38;5;129;01mnot\u001b[39;00m \u001b[38;5;28;01mNone\u001b[39;00m:\n\u001b[32m    954\u001b[39m     \u001b[38;5;66;03m# scale to within unit interval and\u001b[39;00m\n\u001b[32m    955\u001b[39m     \u001b[38;5;66;03m# ensure parameters are within bounds.\u001b[39;00m\n\u001b[32m--> \u001b[39m\u001b[32m956\u001b[39m     x0_scaled = \u001b[38;5;28;43mself\u001b[39;49m\u001b[43m.\u001b[49m\u001b[43m_unscale_parameters\u001b[49m\u001b[43m(\u001b[49m\u001b[43mnp\u001b[49m\u001b[43m.\u001b[49m\u001b[43masarray\u001b[49m\u001b[43m(\u001b[49m\u001b[43mx0\u001b[49m\u001b[43m)\u001b[49m\u001b[43m)\u001b[49m\n\u001b[32m    957\u001b[39m     \u001b[38;5;28;01mif\u001b[39;00m ((x0_scaled > \u001b[32m1.0\u001b[39m) | (x0_scaled < \u001b[32m0.0\u001b[39m)).any():\n\u001b[32m    958\u001b[39m         \u001b[38;5;28;01mraise\u001b[39;00m \u001b[38;5;167;01mValueError\u001b[39;00m(\n\u001b[32m    959\u001b[39m             \u001b[33m\"\u001b[39m\u001b[33mSome entries in x0 lay outside the specified bounds\u001b[39m\u001b[33m\"\u001b[39m\n\u001b[32m    960\u001b[39m         )\n",
      "\u001b[36mFile \u001b[39m\u001b[32m/opt/anaconda3/envs/lisa_env/lib/python3.12/site-packages/scipy/optimize/_differentialevolution.py:1680\u001b[39m, in \u001b[36mDifferentialEvolutionSolver._unscale_parameters\u001b[39m\u001b[34m(self, parameters)\u001b[39m\n\u001b[32m   1678\u001b[39m \u001b[38;5;28;01mdef\u001b[39;00m\u001b[38;5;250m \u001b[39m\u001b[34m_unscale_parameters\u001b[39m(\u001b[38;5;28mself\u001b[39m, parameters):\n\u001b[32m   1679\u001b[39m \u001b[38;5;250m    \u001b[39m\u001b[33;03m\"\"\"Scale from parameters to a number between 0 and 1.\"\"\"\u001b[39;00m\n\u001b[32m-> \u001b[39m\u001b[32m1680\u001b[39m     \u001b[38;5;28;01mreturn\u001b[39;00m (\u001b[43mparameters\u001b[49m\u001b[43m \u001b[49m\u001b[43m-\u001b[49m\u001b[43m \u001b[49m\u001b[38;5;28;43mself\u001b[39;49m\u001b[43m.\u001b[49m\u001b[43m__scale_arg1\u001b[49m) * \u001b[38;5;28mself\u001b[39m.__recip_scale_arg2 + \u001b[32m0.5\u001b[39m\n",
      "\u001b[31mValueError\u001b[39m: operands could not be broadcast together with shapes (10,) (11,) "
     ]
    }
   ],
   "source": [
    "MBHB_finder.find_MBHB()"
   ]
  }
 ],
 "metadata": {
  "kernelspec": {
   "display_name": "lisa_env",
   "language": "python",
   "name": "python3"
  },
  "language_info": {
   "codemirror_mode": {
    "name": "ipython",
    "version": 3
   },
   "file_extension": ".py",
   "mimetype": "text/x-python",
   "name": "python",
   "nbconvert_exporter": "python",
   "pygments_lexer": "ipython3",
   "version": "3.12.9"
  }
 },
 "nbformat": 4,
 "nbformat_minor": 5
}
