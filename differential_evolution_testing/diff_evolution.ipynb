{
 "cells": [
  {
   "cell_type": "code",
   "execution_count": 1,
   "id": "ecd0a05c",
   "metadata": {},
   "outputs": [],
   "source": [
    "import os\n",
    "import sys\n",
    "sys.path.append(os.path.abspath(\"..\"))\n",
    "\n",
    "import numpy as np\n",
    "import matplotlib.pyplot as plt\n",
    "%config InlineBackend.figure_format = 'retina'  # For sharper figures, but it takes more time\n",
    "from tqdm import tqdm\n",
    "import scipy as sp\n",
    "from copy import deepcopy \n",
    "\n",
    "# LISA tools\n",
    "from lisatools.utils.constants import *\n",
    "from lisatools.sensitivity  import AE1SensitivityMatrix\n",
    "\n",
    "# BBHX: Suppress the print statements from the BBHX module like: \"No CuPy or GPU PhenomHM module\"\n",
    "# This is done to avoid cluttering the output when running sp.optimize.differential_evolution\n",
    "from contextlib import contextmanager\n",
    "\n",
    "@contextmanager\n",
    "def suppress_stdout():\n",
    "    with open(os.devnull, \"w\") as devnull:\n",
    "        old_stdout = sys.stdout\n",
    "        sys.stdout = devnull\n",
    "        try:\n",
    "            yield\n",
    "        finally:\n",
    "            sys.stdout = old_stdout\n",
    "\n",
    "with suppress_stdout():\n",
    "    from bbhx.waveformbuild import BBHWaveformFD\n",
    "\n",
    "# My modules\n",
    "from tools.LISASimulator import LISASimulator\n",
    "from tools.time_freq_likelihood import TimeFreqLikelihood\n",
    "from tools.likelihood import get_dh, get_hh, TimeFreqSNR\n",
    "import tools.likelihood as likelihood\n",
    "from tools.MBHB_differential_evolution import MBHB_finder"
   ]
  },
  {
   "cell_type": "code",
   "execution_count": 2,
   "id": "188a0c71",
   "metadata": {},
   "outputs": [
    {
     "name": "stdout",
     "output_type": "stream",
     "text": [
      "11\n"
     ]
    }
   ],
   "source": [
    "from multiprocessing import cpu_count\n",
    "print(cpu_count())"
   ]
  },
  {
   "cell_type": "code",
   "execution_count": 3,
   "id": "3a789451",
   "metadata": {},
   "outputs": [
    {
     "name": "stdout",
     "output_type": "stream",
     "text": [
      "3595.48440646233\n"
     ]
    }
   ],
   "source": [
    "Tobs = YRSID_SI/12\n",
    "dt = 5.\n",
    "include_T_channel = False # Set to True if you want to include the T channel in the simulation, otherwise only A and E channels will be included.\n",
    "\n",
    "wave_gen = BBHWaveformFD(amp_phase_kwargs=dict(run_phenomd=False))\n",
    "sim = LISASimulator(Tobs=Tobs, dt=dt, wave_gen=wave_gen, include_T_channel=include_T_channel)\n",
    "\n",
    "m1 = 3e5\n",
    "m2 = 1.5e5\n",
    "a1 = 0.2\n",
    "a2 = 0.4\n",
    "dist = 4 * PC_SI * 1e9  # distance in Gpc\n",
    "phi_ref = np.pi/2\n",
    "f_ref = 0.0\n",
    "inc = np.pi/3\n",
    "lam = np.pi/1.\n",
    "beta = np.pi/4.\n",
    "psi = np.pi/4.\n",
    "t_ref = 0.95 * Tobs\n",
    "#t_ref = round(0.9 * Tobs / dt) * dt  # round to the nearest multiple of dt, to force t_ref to be a part of t_array\n",
    "\n",
    "parameters = np.array([m1, m2, a1, a2, dist, phi_ref, f_ref, inc, lam, beta, psi, t_ref])\n",
    "\n",
    "modes = [(2,2), (2,1), (3,3), (3,2), (4,4), (4,3)]\n",
    "waveform_kwargs = dict(length=1024, direct=False, fill=True, squeeze=False, modes=modes)\n",
    "\n",
    "data_t, data_f, f_array, t_array, sens_mat = sim(seed = 42, parameters=parameters, waveform_kwargs=waveform_kwargs)\n",
    "waveform_kwargs.update(freqs=f_array)\n",
    "\n",
    "print(sim.SNR_optimal()[0])"
   ]
  },
  {
   "cell_type": "markdown",
   "id": "f8d5c99e",
   "metadata": {},
   "source": [
    "## Pre-Merger"
   ]
  },
  {
   "cell_type": "code",
   "execution_count": 4,
   "id": "19cd36b0",
   "metadata": {},
   "outputs": [],
   "source": [
    "# Not doing the premerger now to see if the code works better with the merger included\n",
    "time_before_merger = 60*60\n",
    "cutoff_time = t_ref - time_before_merger\n",
    "max_time = t_ref + 60*60*12\n",
    "\n",
    "def pre_merger(gravitational_wave_data_t, time_before_merger, t_ref, t_array):\n",
    "        cutoff_time = t_ref - time_before_merger\n",
    "        cutoff_index = np.searchsorted(t_array, cutoff_time)\n",
    "        data_t_truncated = gravitational_wave_data_t[:, :cutoff_index]\n",
    "        return data_t_truncated, cutoff_index\n",
    "\n",
    "data_t_truncated, cutoff_index =  pre_merger(sim.signal_t[0], time_before_merger, t_ref, t_array)\n"
   ]
  },
  {
   "cell_type": "markdown",
   "id": "c120e622",
   "metadata": {},
   "source": [
    "# The SNR does not depend on the distance. \n",
    "Change the guess_distance to see that the SNR is the same. The distance is calculated based on the amplitude.\n",
    "- This only works when all the other parameters in template are set to the real values. \n",
    "- The hope is to use differential_evolution to calculate the remaining parameters reasonably well and get an estimate of distance from that"
   ]
  },
  {
   "cell_type": "code",
   "execution_count": 5,
   "id": "5f4cc28d",
   "metadata": {},
   "outputs": [
    {
     "name": "stdout",
     "output_type": "stream",
     "text": [
      "3595.484406462329\n",
      "Percentage diff     =  4.1757123185153e-14 %\n",
      "True distance       =  4.0 Gpc\n",
      "Dist from Amplitude =  4.000000000000002 Gpc\n",
      "SNR calculated      =  3595.484406462329\n"
     ]
    }
   ],
   "source": [
    "guess_distance = dist * 1000\n",
    "signal_with_which_to_test_this = sim.signal_f[0] #data_f\n",
    "template = wave_gen(\n",
    "    m1,\n",
    "    m2,\n",
    "    a1,\n",
    "    a2,\n",
    "    guess_distance, \n",
    "    phi_ref,\n",
    "    f_ref, \n",
    "    inc,\n",
    "    lam,\n",
    "    beta,\n",
    "    psi,\n",
    "    t_ref,\n",
    "    **waveform_kwargs\n",
    ")\n",
    "template = template[0, :2]\n",
    "print(likelihood.template_snr(signal_with_which_to_test_this, template, AE1SensitivityMatrix(f_array), df=sim.df))\n",
    "\n",
    "hh = get_hh(template, AE1SensitivityMatrix(f_array), df=sim.df)\n",
    "dh = get_dh(signal_with_which_to_test_this, template, AE1SensitivityMatrix(f_array), df=sim.df)\n",
    "amplitude = dh/hh\n",
    "new_distance = guess_distance /  amplitude\n",
    "\n",
    "print( \"Percentage diff     = \", (new_distance-dist)*100/dist , \"%\" )\n",
    "print( \"True distance       = \",  dist/(PC_SI*1e9), \"Gpc\")\n",
    "print( \"Dist from Amplitude = \",  new_distance/(PC_SI*1e9), \"Gpc\")\n",
    "print( \"SNR calculated      = \" , dh/np.sqrt(hh))"
   ]
  },
  {
   "cell_type": "markdown",
   "id": "ba4f9d19",
   "metadata": {},
   "source": [
    "The SNR also does not change with the time-frequency SNR with pre-merger. Change guess_distance and see that nothing changes.\n",
    "- Again, this only works when all the other parameters in template are set to the real values. \n",
    "- The hope is to use differential_evolution to calculate the remaining parameters reasonably well and get an estimate of distance from that.\n",
    "- But it's good that using time-freq SNR also works to get the distance.\n",
    "- Change the value of, say, m1 drastically and see that the distance estimate from the equation is awful, which makes sense."
   ]
  },
  {
   "cell_type": "code",
   "execution_count": 6,
   "id": "c141d6ad",
   "metadata": {},
   "outputs": [
    {
     "name": "stdout",
     "output_type": "stream",
     "text": [
      "0.0 0.0\n",
      "True distance       =  4.0 Gpc\n",
      "Dist from Amplitude =  4.0 Gpc\n",
      "SNR calculated      =  0.7273685958383449\n"
     ]
    }
   ],
   "source": [
    "guess_distance = dist \n",
    "parameters_new = [\n",
    "    m1*(1),  # Slightly change m1 to see the effect\n",
    "    m2,\n",
    "    a1*(1),  # Slightly change a1 to see the effect\n",
    "    a2,\n",
    "    guess_distance,\n",
    "    phi_ref,\n",
    "    f_ref,\n",
    "    inc*(1 ),\n",
    "    lam,\n",
    "    beta,\n",
    "    psi,\n",
    "    t_ref\n",
    "]\n",
    "analysis = TimeFreqSNR(\n",
    "    data_t_truncated,\n",
    "    wave_gen=wave_gen,\n",
    "    nperseg=5000,\n",
    "    dt_full=dt,\n",
    "    cutoff_index=cutoff_index,\n",
    "    pre_merger=True\n",
    ")\n",
    "analysis.get_stft_of_data()\n",
    "SNR, amplitude = analysis.calculate_time_frequency_SNR(*parameters_new, waveform_kwargs=waveform_kwargs)\n",
    "new_distance = guess_distance /  amplitude\n",
    "print((new_distance - dist)/(PC_SI*1e9) , (new_distance-dist)/dist)\n",
    "print( \"True distance       = \",  dist/(PC_SI*1e9), \"Gpc\")\n",
    "print( \"Dist from Amplitude = \",  new_distance/(PC_SI*1e9), \"Gpc\")\n",
    "print( \"SNR calculated      = \",  SNR)"
   ]
  },
  {
   "cell_type": "markdown",
   "id": "9a55d211",
   "metadata": {},
   "source": [
    "# Differential Evolution Analysis"
   ]
  },
  {
   "cell_type": "code",
   "execution_count": 7,
   "id": "78bfedae",
   "metadata": {},
   "outputs": [],
   "source": [
    "boundaries = {}\n",
    "boundaries['Total_Mass'] = [1e5, 6e5]\n",
    "boundaries['Mass_Ratio'] = [0.05, 0.999999]\n",
    "boundaries['Spin1'] = [-1, 1]\n",
    "boundaries['Spin2'] = [-1, 1]\n",
    "boundaries['Distance'] = [1e3, 10e3] # in Mpc i.e. dL / (PC_SI * 1e6)\n",
    "boundaries['Phase'] = [0.0, 2 * np.pi]\n",
    "boundaries['cos(Inclination)'] = [-1, 1]\n",
    "boundaries['Ecliptic_Longitude'] = [0, 2*np.pi]\n",
    "boundaries['sin(Ecliptic_Latitude)'] = [-1, 1]\n",
    "boundaries['Polarization'] = [0, np.pi]\n",
    "boundaries['Coalescence_Time'] = [cutoff_time, max_time]  "
   ]
  },
  {
   "cell_type": "code",
   "execution_count": 8,
   "id": "8303d8e4",
   "metadata": {},
   "outputs": [],
   "source": [
    "DifferentialEvolution = MBHB_finder(\n",
    "    data_t = sim.signal_t[0],           # For pre-merger, use data_t_truncated. For full signal, use sim.signal_t[0]\n",
    "    wave_gen= wave_gen,\n",
    "    waveform_kwargs=waveform_kwargs,\n",
    "    boundaries=boundaries,\n",
    "    nperseg=5000,\n",
    "    dt_full= dt,\n",
    "    pre_merger=False,\n",
    "    #cutoff_index=cutoff_index,\n",
    "    true_parameters=parameters,\n",
    ")\n",
    "DifferentialEvolution.get_stft_of_data()"
   ]
  },
  {
   "cell_type": "code",
   "execution_count": 9,
   "id": "94528445",
   "metadata": {},
   "outputs": [],
   "source": [
    "differential_evolution_kwargs = {\n",
    "    'strategy': 'best1exp',\n",
    "    'popsize': 3,\n",
    "    'tol': 1e-4,\n",
    "    'maxiter': 30,\n",
    "    'recombination': 1,\n",
    "    'mutation': (0.7, 1),\n",
    "    'polish': False,\n",
    "    'disp': True,\n",
    "    'workers': -1,  # Use all available CPU cores\n",
    "    'updating': 'deferred',\n",
    "}\n",
    "\n",
    "fixed_parameters = {\n",
    "    'Total_Mass': m1 + m2,\n",
    "    'Mass_Ratio': m2 / m1,\n",
    "    'Spin1': a1,\n",
    "    'Spin2': a2,\n",
    "    'Distance': boundaries['Distance'][0] + 0.5 * (boundaries['Distance'][1] - boundaries['Distance'][0]), # Always include this in fixed parameters\n",
    "    'Phase': phi_ref,\n",
    "    'cos(Inclination)': np.cos(inc),\n",
    "    #'Ecliptic_Longitude': lam,\n",
    "    'sin(Ecliptic_Latitude)': np.sin(beta),\n",
    "    'Polarization': psi,\n",
    "    'Coalescence_Time': t_ref,\n",
    "}"
   ]
  },
  {
   "cell_type": "code",
   "execution_count": 10,
   "id": "4c82e396",
   "metadata": {},
   "outputs": [
    {
     "name": "stdout",
     "output_type": "stream",
     "text": [
      "time SNR  0.19\n",
      "initial guess 0.026199230113884274\n",
      "No CuPy\n",
      "No CuPy or GPU PhenomHM module.\n",
      "No CuPy or GPU interpolation available.\n",
      "No CuPy or GPU response available.\n",
      "No CuPy\n",
      "No CuPy or GPU PhenomHM module.\n",
      "No CuPy or GPU interpolation available.\n",
      "No CuPy or GPU response available.\n",
      "No CuPy\n",
      "No CuPy or GPU PhenomHM module.\n",
      "No CuPy or GPU interpolation available.\n",
      "No CuPy or GPU response available.\n",
      "No CuPy\n",
      "No CuPy or GPU PhenomHM module.\n",
      "No CuPy or GPU interpolation available.\n",
      "No CuPy or GPU response available.\n",
      "No CuPy\n",
      "No CuPy or GPU PhenomHM module.\n",
      "No CuPy or GPU interpolation available.\n",
      "No CuPy or GPU response available.\n",
      "No CuPy\n",
      "No CuPy or GPU PhenomHM module.\n",
      "No CuPy or GPU interpolation available.\n",
      "No CuPy or GPU response available.\n",
      "No CuPy\n",
      "No CuPy or GPU PhenomHM module.\n",
      "No CuPy or GPU interpolation available.\n",
      "No CuPy or GPU response available.\n",
      "No CuPy\n",
      "No CuPy or GPU PhenomHM module.\n",
      "No CuPy or GPU interpolation available.\n",
      "No CuPy or GPU response available.\n",
      "No CuPy\n",
      "No CuPy or GPU PhenomHM module.\n",
      "No CuPy or GPU interpolation available.\n",
      "No CuPy or GPU response available.\n",
      "No CuPy\n",
      "No CuPy or GPU PhenomHM module.\n",
      "No CuPy or GPU interpolation available.\n",
      "No CuPy or GPU response available.\n",
      "differential_evolution step 1: f(x)= -1.0284722961192436\n",
      "No CuPy\n",
      "No CuPy or GPU PhenomHM module.\n",
      "No CuPy or GPU interpolation available.\n",
      "No CuPy or GPU response available.\n",
      "differential_evolution step 2: f(x)= -1.0284722961192436\n",
      "differential_evolution step 3: f(x)= -1.0284722961192436\n",
      "differential_evolution step 4: f(x)= -1.0284722961192436\n",
      "differential_evolution step 5: f(x)= -1.0284722961192436\n",
      "differential_evolution step 6: f(x)= -1.0764852716267403\n",
      "differential_evolution step 7: f(x)= -1.2513809973642196\n",
      "differential_evolution step 8: f(x)= -1.253799332568817\n",
      "differential_evolution step 9: f(x)= -1.271835398349584\n",
      "differential_evolution step 10: f(x)= -1.271835398349584\n",
      "differential_evolution step 11: f(x)= -1.271835398349584\n",
      "differential_evolution step 12: f(x)= -1.2772005894058536\n",
      "differential_evolution step 13: f(x)= -1.2772005894058536\n",
      "differential_evolution step 14: f(x)= -1.2772515920658896\n",
      "differential_evolution step 15: f(x)= -1.2772515920658896\n",
      "differential_evolution step 16: f(x)= -1.2772515920658896\n",
      "time DE  24.1\n",
      "             message: Optimization terminated successfully.\n",
      "             success: True\n",
      "                 fun: -1.2772515920658896\n",
      "                   x: [ 3.141e+00]\n",
      "                 nit: 16\n",
      "                nfev: 85\n",
      "          population: [[ 3.141e+00]\n",
      "                       [ 3.142e+00]\n",
      "                       [ 3.141e+00]\n",
      "                       [ 3.142e+00]\n",
      "                       [ 3.141e+00]]\n",
      " population_energies: [-1.277e+00 -1.277e+00 -1.277e+00 -1.277e+00\n",
      "                       -1.277e+00]\n"
     ]
    }
   ],
   "source": [
    "found_parameters, found_snr_found, results = DifferentialEvolution.find_MBHB(differential_evolution_kwargs, fixed_parameters=fixed_parameters)\n",
    "# The number of messages like \"No CuPy or GPU PhenomHM module\" you see is exactly equal to the number of workers used. On this macbook, it has 11 cores, so there are 11 messages. Imma just live with this"
   ]
  },
  {
   "cell_type": "code",
   "execution_count": 11,
   "id": "5e1e181e",
   "metadata": {},
   "outputs": [
    {
     "name": "stdout",
     "output_type": "stream",
     "text": [
      "Index Parameter                 Lower Bound     Found                True                 Upper Bound     Status    \n",
      "------------------------------------------------------------------------------------------------------------------------\n",
      "0     Total_Mass                100000          450000               450000               600000          fixed     \n",
      "1     Mass_Ratio                0.05            0.5                  0.5                  0.999999        fixed     \n",
      "2     Spin1                     -1              0.2                  0.2                  1               fixed     \n",
      "3     Spin2                     -1              0.4                  0.4                  1               fixed     \n",
      "4     Distance                  1000            3999.87              4000                 10000           variable  \n",
      "5     Phase                     0               1.5708               1.5708               6.28319         fixed     \n",
      "6     cos(Inclination)          -1              0.5                  0.5                  1               fixed     \n",
      "7     Ecliptic_Longitude        0               3.14149              3.14159              6.28319         variable  \n",
      "8     sin(Ecliptic_Latitude)    -1              0.707107             0.707107             1               fixed     \n",
      "9     Polarization              0               0.785398             0.785398             3.14159         fixed     \n",
      "10    Coalescence_Time          2.49475e+06     2.49835e+06          2.49835e+06          2.54155e+06     fixed     \n",
      "\n"
     ]
    }
   ],
   "source": [
    "print(DifferentialEvolution)"
   ]
  },
  {
   "cell_type": "code",
   "execution_count": 14,
   "id": "3afb0765",
   "metadata": {},
   "outputs": [
    {
     "data": {
      "text/plain": [
       "'\\ndef transform_parameters(x):\\n    all_parameters = np.zeros(11)\\n    all_parameters[0] = x[0] + x[1]\\n    all_parameters[1] = x[1] / x[0]\\n    all_parameters[2] = x[2]\\n    all_parameters[3] = x[3]\\n    all_parameters[4] = x[4] / (PC_SI * 1e6)\\n    all_parameters[5] = x[5]\\n    all_parameters[6] = np.cos(x[7])\\n    all_parameters[7] = x[8]\\n    all_parameters[8] = np.sin(x[9])\\n    all_parameters[9] = x[10]\\n    all_parameters[10] = x[11]\\n    return all_parameters\\n'"
      ]
     },
     "execution_count": 14,
     "metadata": {},
     "output_type": "execute_result"
    }
   ],
   "source": [
    "\"\"\"\n",
    "def transform_parameters(x):\n",
    "    all_parameters = np.zeros(11)\n",
    "    all_parameters[0] = x[0] + x[1]\n",
    "    all_parameters[1] = x[1] / x[0]\n",
    "    all_parameters[2] = x[2]\n",
    "    all_parameters[3] = x[3]\n",
    "    all_parameters[4] = x[4] / (PC_SI * 1e6)\n",
    "    all_parameters[5] = x[5]\n",
    "    all_parameters[6] = np.cos(x[7])\n",
    "    all_parameters[7] = x[8]\n",
    "    all_parameters[8] = np.sin(x[9])\n",
    "    all_parameters[9] = x[10]\n",
    "    all_parameters[10] = x[11]\n",
    "    return all_parameters\n",
    "\"\"\""
   ]
  },
  {
   "cell_type": "markdown",
   "id": "818b95a8",
   "metadata": {},
   "source": [
    "The reason why the distance estimate can be so bad (as well as sometimes outside the priors) is because it is calculated from the amplitude that is calculated with a template generated by the other found parameters, which don't have to be close to the true parameters. With only 1 variable parameter, it works properly"
   ]
  },
  {
   "cell_type": "code",
   "execution_count": 15,
   "id": "b8f0bfb3",
   "metadata": {},
   "outputs": [
    {
     "data": {
      "text/plain": [
       "'print(f\"{\\'Index\\':<5} {\\'Parameter\\':<25} {\\'Lower Bound\\':<15} {\\'Found\\':<20} {\\'True\\':<20} {\\'Upper Bound\\':<15} {\\'Status\\':<10}\")\\nprint(\\'-\\' * 120)\\n\\nfor i, (param, bounds) in enumerate(boundaries.items()):\\n    lower, upper = bounds\\n    found = found_parameters[i]\\n    true = transform_parameters(parameters)[i]\\n\\n    # Determine if the parameter was fixed or optimized\\n    if param == \\'Distance\\':\\n        status = \\'variable\\'  # Special case: always print Distance as variable\\n    elif param in fixed_parameters:\\n        status = \\'fixed\\'\\n    else:\\n        status = \\'variable\\'\\n\\n    print(f\"{i:<5} {param:<25} {lower:<15.6g} {found:<20.6g} {true:<20.6g} {upper:<15.6g} {status:<10}\")\\n'"
      ]
     },
     "execution_count": 15,
     "metadata": {},
     "output_type": "execute_result"
    }
   ],
   "source": [
    "\"\"\"print(f\"{'Index':<5} {'Parameter':<25} {'Lower Bound':<15} {'Found':<20} {'True':<20} {'Upper Bound':<15} {'Status':<10}\")\n",
    "print('-' * 120)\n",
    "\n",
    "for i, (param, bounds) in enumerate(boundaries.items()):\n",
    "    lower, upper = bounds\n",
    "    found = found_parameters[i]\n",
    "    true = transform_parameters(parameters)[i]\n",
    "\n",
    "    # Determine if the parameter was fixed or optimized\n",
    "    if param == 'Distance':\n",
    "        status = 'variable'  # Special case: always print Distance as variable\n",
    "    elif param in fixed_parameters:\n",
    "        status = 'fixed'\n",
    "    else:\n",
    "        status = 'variable'\n",
    "\n",
    "    print(f\"{i:<5} {param:<25} {lower:<15.6g} {found:<20.6g} {true:<20.6g} {upper:<15.6g} {status:<10}\")\n",
    "\"\"\""
   ]
  }
 ],
 "metadata": {
  "kernelspec": {
   "display_name": "lisa_env",
   "language": "python",
   "name": "python3"
  },
  "language_info": {
   "codemirror_mode": {
    "name": "ipython",
    "version": 3
   },
   "file_extension": ".py",
   "mimetype": "text/x-python",
   "name": "python",
   "nbconvert_exporter": "python",
   "pygments_lexer": "ipython3",
   "version": "3.12.9"
  }
 },
 "nbformat": 4,
 "nbformat_minor": 5
}
