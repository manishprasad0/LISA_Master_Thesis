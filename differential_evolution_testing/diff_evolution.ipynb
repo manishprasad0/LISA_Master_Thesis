{
 "cells": [
  {
   "cell_type": "code",
   "execution_count": 1,
   "id": "ecd0a05c",
   "metadata": {},
   "outputs": [
    {
     "name": "stdout",
     "output_type": "stream",
     "text": [
      "No CuPy\n",
      "No CuPy or GPU PhenomHM module.\n",
      "No CuPy or GPU interpolation available.\n",
      "No CuPy or GPU response available.\n"
     ]
    }
   ],
   "source": [
    "import os\n",
    "import sys\n",
    "sys.path.append(os.path.abspath(\"..\"))\n",
    "\n",
    "import numpy as np\n",
    "import matplotlib.pyplot as plt\n",
    "%config InlineBackend.figure_format = 'retina'  # For sharper figures, but it takes more time\n",
    "from tqdm import tqdm\n",
    "import scipy as sp\n",
    "from copy import deepcopy \n",
    "\n",
    "from lisatools.utils.constants import *\n",
    "from lisatools.sensitivity  import AE1SensitivityMatrix\n",
    "from bbhx.waveformbuild import BBHWaveformFD\n",
    "import noise_generation as noise_generation\n",
    "from tools.LISASimulator import LISASimulator\n",
    "from tools.time_freq_likelihood import TimeFreqLikelihood\n",
    "from tools.likelihood import get_dh, get_hh, TimeFreqSNR\n",
    "import tools.likelihood as likelihood\n",
    "\n",
    "from tools.MBHB_differential_evolution import MBHB_finder"
   ]
  },
  {
   "cell_type": "code",
   "execution_count": 2,
   "id": "3a789451",
   "metadata": {},
   "outputs": [
    {
     "name": "stdout",
     "output_type": "stream",
     "text": [
      "2876.387525169864\n"
     ]
    }
   ],
   "source": [
    "Tobs = YRSID_SI/12\n",
    "dt = 5.\n",
    "include_T_channel = False # Set to True if you want to include the T channel in the simulation, otherwise only A and E channels will be included.\n",
    "\n",
    "wave_gen = BBHWaveformFD(amp_phase_kwargs=dict(run_phenomd=False))\n",
    "sim = LISASimulator(Tobs=Tobs, dt=dt, wave_gen=wave_gen, include_T_channel=include_T_channel)\n",
    "\n",
    "m1 = 3e5\n",
    "m2 = 1.5e5\n",
    "a1 = 0.2\n",
    "a2 = 0.4\n",
    "dist = 5 * PC_SI * 1e9  # distance in Gpc\n",
    "phi_ref = np.pi/2\n",
    "f_ref = 0.0\n",
    "inc = np.pi/3\n",
    "lam = np.pi/1.\n",
    "beta = np.pi/4.\n",
    "psi = np.pi/4.\n",
    "t_ref = 0.95 * Tobs\n",
    "#t_ref = round(0.9 * Tobs / dt) * dt  # round to the nearest multiple of dt, to force t_ref to be a part of t_array\n",
    "\n",
    "parameters = np.array([m1, m2, a1, a2, dist, phi_ref, f_ref, inc, lam, beta, psi, t_ref])\n",
    "\n",
    "modes = [(2,2), (2,1), (3,3), (3,2), (4,4), (4,3)]\n",
    "waveform_kwargs = dict(length=1024, direct=False, fill=True, squeeze=False, modes=modes)\n",
    "\n",
    "data_t, data_f, f_array, t_array, sens_mat = sim(seed = 42, parameters=parameters, waveform_kwargs=waveform_kwargs)\n",
    "waveform_kwargs.update(freqs=f_array)\n",
    "\n",
    "print(sim.SNR_optimal()[0])"
   ]
  },
  {
   "cell_type": "markdown",
   "id": "f8d5c99e",
   "metadata": {},
   "source": [
    "## Pre-Merger"
   ]
  },
  {
   "cell_type": "code",
   "execution_count": 4,
   "id": "19cd36b0",
   "metadata": {},
   "outputs": [],
   "source": [
    "time_before_merger = 60*60\n",
    "cutoff_time = t_ref - time_before_merger\n",
    "max_time = t_ref + 60*60*12\n",
    "\n",
    "def pre_merger(gravitational_wave_data_t, time_before_merger, t_ref, t_array):\n",
    "        cutoff_time = t_ref - time_before_merger\n",
    "        cutoff_index = np.searchsorted(t_array, cutoff_time)\n",
    "        data_t_truncated = gravitational_wave_data_t[:, :cutoff_index]\n",
    "        return data_t_truncated, cutoff_index\n",
    "\n",
    "data_t_truncated, cutoff_index =  pre_merger(data_t, time_before_merger, t_ref, t_array)"
   ]
  },
  {
   "cell_type": "markdown",
   "id": "c120e622",
   "metadata": {},
   "source": [
    "# The SNR does not depend on the distance. \n",
    "Change the guess_distance to see that the SNR is the same. The distance is calculated based on the amplitude."
   ]
  },
  {
   "cell_type": "code",
   "execution_count": 27,
   "id": "5f4cc28d",
   "metadata": {},
   "outputs": [
    {
     "name": "stdout",
     "output_type": "stream",
     "text": [
      "2876.2995595533453\n",
      "0.00015291456035319145 0.0030582912070638295 %\n"
     ]
    }
   ],
   "source": [
    "guess_distance = dist * 1000\n",
    "template = wave_gen(\n",
    "    m1,\n",
    "    m2,\n",
    "    a1,\n",
    "    a2,\n",
    "    guess_distance, \n",
    "    phi_ref,\n",
    "    f_ref, \n",
    "    inc,\n",
    "    lam,\n",
    "    beta,\n",
    "    psi,\n",
    "    t_ref,\n",
    "    **waveform_kwargs\n",
    ")\n",
    "template = template[0, :2]\n",
    "print(likelihood.template_snr(data_f, template, AE1SensitivityMatrix(f_array), df=sim.df))\n",
    "\n",
    "hh = get_hh(template, AE1SensitivityMatrix(f_array), df=sim.df)\n",
    "dh = get_dh(data_f, template, AE1SensitivityMatrix(f_array), df=sim.df)\n",
    "amplitude = dh/hh\n",
    "new_distance = guess_distance /  amplitude\n",
    "\n",
    "print((new_distance - dist)/(PC_SI*1e9) , (new_distance-dist)*100/dist , \"%\" )"
   ]
  },
  {
   "cell_type": "markdown",
   "id": "ba4f9d19",
   "metadata": {},
   "source": [
    "The SNR also does not change with the time-frequency SNR with pre-merger. Change guess_distance and see that nothing changes. Also, new_distance remains the same"
   ]
  },
  {
   "cell_type": "code",
   "execution_count": 28,
   "id": "c141d6ad",
   "metadata": {},
   "outputs": [
    {
     "name": "stdout",
     "output_type": "stream",
     "text": [
      "-0.022924402780016243 -0.004584880556003249\n"
     ]
    }
   ],
   "source": [
    "guess_distance = dist * 100\n",
    "parameters_new = [\n",
    "    m1*(1 + 0.001),  # Slightly change m1 to see the effect\n",
    "    m2,\n",
    "    a1*(1 + 0.01),  # Slightly change a1 to see the effect\n",
    "    a2,\n",
    "    guess_distance,\n",
    "    phi_ref,\n",
    "    f_ref,\n",
    "    inc*(1 + 0.01),\n",
    "    lam,\n",
    "    beta,\n",
    "    psi,\n",
    "    t_ref\n",
    "]\n",
    "analysis = TimeFreqSNR(\n",
    "    data_t_truncated,\n",
    "    wave_gen=wave_gen,\n",
    "    nperseg=5000,\n",
    "    dt_full=dt,\n",
    "    cutoff_index=cutoff_index,\n",
    "    pre_merger=True\n",
    ")\n",
    "analysis.get_stft_of_data()\n",
    "SNR, amplitude = analysis.calculate_time_frequency_SNR(*parameters_new, waveform_kwargs=waveform_kwargs)\n",
    "new_distance = guess_distance /  amplitude\n",
    "print((new_distance - dist)/(PC_SI*1e9) , (new_distance-dist)/dist)"
   ]
  },
  {
   "cell_type": "markdown",
   "id": "9a55d211",
   "metadata": {},
   "source": [
    "# Differential Evolution Analysis"
   ]
  },
  {
   "cell_type": "code",
   "execution_count": 6,
   "id": "78bfedae",
   "metadata": {},
   "outputs": [],
   "source": [
    "boundaries = {}\n",
    "boundaries['TotalMass'] = [5e5, 6e5]\n",
    "boundaries['MassRatio'] = [0.05, 0.999999]\n",
    "boundaries['Spin1'] = [-1, 1]\n",
    "boundaries['Spin2'] = [-1, 1]\n",
    "boundaries['Distance'] = [1e3, 10e3] # in Mpc i.e. dL / (PC_SI * 1e6)\n",
    "boundaries['Phase'] = [0.0, 2 * np.pi]\n",
    "boundaries['Inclination'] = [-1, 1]\n",
    "boundaries['EclipticLongitude'] = [0, 2*np.pi]\n",
    "boundaries['EclipticLatitude'] = [-1, 1]\n",
    "boundaries['Polarization'] = [0, np.pi]\n",
    "boundaries['CoalescenceTime'] = [cutoff_time, max_time]  "
   ]
  },
  {
   "cell_type": "code",
   "execution_count": 7,
   "id": "8303d8e4",
   "metadata": {},
   "outputs": [],
   "source": [
    "DifferentialEvolution = MBHB_finder(\n",
    "    data_t = data_t_truncated,\n",
    "    wave_gen= wave_gen,\n",
    "    cutoff_index=cutoff_index,\n",
    "    waveform_kwargs=waveform_kwargs,\n",
    "    boundaries=boundaries,\n",
    "    nperseg=5000,\n",
    "    dt_full= dt,\n",
    "    pre_merger=True,\n",
    ")\n",
    "DifferentialEvolution.get_stft_of_data()"
   ]
  },
  {
   "cell_type": "code",
   "execution_count": 8,
   "id": "4c82e396",
   "metadata": {},
   "outputs": [
    {
     "name": "stdout",
     "output_type": "stream",
     "text": [
      "time SNR  0.28\n",
      "initial guess -0.003804717613724419\n"
     ]
    },
    {
     "name": "stderr",
     "output_type": "stream",
     "text": [
      "/opt/anaconda3/envs/lisa_env/lib/python3.12/site-packages/scipy/optimize/_differentialevolution.py:486: UserWarning: differential_evolution: the 'workers' keyword has overridden updating='immediate' to updating='deferred'\n",
      "  with DifferentialEvolutionSolver(func, bounds, args=args,\n"
     ]
    },
    {
     "name": "stdout",
     "output_type": "stream",
     "text": [
      "No CuPy\n",
      "No CuPy or GPU PhenomHM module.\n",
      "No CuPy or GPU interpolation available.\n",
      "No CuPy or GPU response available.\n",
      "No CuPy\n",
      "No CuPy or GPU PhenomHM module.\n",
      "No CuPy or GPU interpolation available.\n",
      "No CuPy or GPU response available.\n",
      "No CuPy\n",
      "No CuPy or GPU PhenomHM module.\n",
      "No CuPy or GPU interpolation available.\n",
      "No CuPy or GPU response available.\n",
      "No CuPy\n",
      "No CuPy or GPU PhenomHM module.\n",
      "No CuPy or GPU interpolation available.\n",
      "No CuPy or GPU response available.\n",
      "No CuPy\n",
      "No CuPy or GPU PhenomHM module.\n",
      "No CuPy or GPU interpolation available.\n",
      "No CuPy or GPU response available.\n",
      "No CuPy\n",
      "No CuPy or GPU PhenomHM module.\n",
      "No CuPy or GPU interpolation available.\n",
      "No CuPy or GPU response available.\n",
      "No CuPy\n",
      "No CuPy or GPU PhenomHM module.\n",
      "No CuPy or GPU interpolation available.\n",
      "No CuPy or GPU response available.\n",
      "No CuPy\n",
      "No CuPy or GPU PhenomHM module.\n",
      "No CuPy or GPU interpolation available.\n",
      "No CuPy or GPU response available.\n",
      "No CuPy\n",
      "No CuPy or GPU PhenomHM module.\n",
      "No CuPy or GPU interpolation available.\n",
      "No CuPy or GPU response available.\n",
      "No CuPy\n",
      "No CuPy or GPU PhenomHM module.\n",
      "No CuPy or GPU interpolation available.\n",
      "No CuPy or GPU response available.\n",
      "No CuPy\n",
      "No CuPy or GPU PhenomHM module.\n",
      "No CuPy or GPU interpolation available.\n",
      "No CuPy or GPU response available.\n",
      "time DE  100.65\n",
      "             message: Maximum number of iterations has been exceeded.\n",
      "             success: False\n",
      "                 fun: -0.08532329488072418\n",
      "                   x: [ 5.466e+05  1.932e-01  1.538e-01  3.741e-01\n",
      "                        5.894e+00 -1.708e-01  1.098e+00  5.293e-03\n",
      "                        3.959e-01  2.501e+06]\n",
      "                 nit: 10\n",
      "                nfev: 330\n",
      "          population: [[ 5.466e+05  1.932e-01 ...  3.959e-01  2.501e+06]\n",
      "                       [ 5.902e+05  3.750e-01 ...  6.373e-01  2.519e+06]\n",
      "                       ...\n",
      "                       [ 5.869e+05  1.683e-01 ...  6.508e-01  2.505e+06]\n",
      "                       [ 5.257e+05  1.117e-01 ...  7.826e-01  2.526e+06]]\n",
      " population_energies: [-8.532e-02 -9.597e-03 ... -5.605e-02 -2.040e-02]\n",
      "[ 5.46591330e+05  1.93186876e-01  1.53794638e-01  3.74149134e-01\n",
      "  1.62348831e+04  5.89382707e+00 -1.70821202e-01  1.09755635e+00\n",
      "  5.29288557e-03  3.95875242e-01  2.50078235e+06] 0.08532329488072396\n"
     ]
    }
   ],
   "source": [
    "found_parameters, found_snr_found, function_evaluations = DifferentialEvolution.find_MBHB(\n",
    "    strategy='best1exp', \n",
    "    popsize=3,\n",
    "    tol=1e-1,\n",
    "    maxiter=10,\n",
    "    recombination=1,\n",
    "    mutation=(0.7, 1),\n",
    "    polish=False,\n",
    "    disp=False\n",
    ")"
   ]
  },
  {
   "cell_type": "code",
   "execution_count": 23,
   "id": "3afb0765",
   "metadata": {},
   "outputs": [],
   "source": [
    "def transform_parameters(x):\n",
    "    all_parameters = np.zeros(11)\n",
    "    all_parameters[0] = x[0] + x[1]\n",
    "    all_parameters[1] = x[1] / x[0]\n",
    "    all_parameters[2] = x[2]\n",
    "    all_parameters[3] = x[3]\n",
    "    all_parameters[4] = x[4] / (PC_SI * 1e6)\n",
    "    all_parameters[5] = x[5]\n",
    "    all_parameters[6] = np.cos(x[7])\n",
    "    all_parameters[7] = x[8]\n",
    "    all_parameters[8] = np.sin(x[9])\n",
    "    all_parameters[9] = x[10]\n",
    "    all_parameters[10] = x[11]\n",
    "    return all_parameters"
   ]
  },
  {
   "cell_type": "code",
   "execution_count": 26,
   "id": "ac4c1db2",
   "metadata": {},
   "outputs": [
    {
     "name": "stdout",
     "output_type": "stream",
     "text": [
      "Parameter            Found                True                \n",
      "------------------------------------------------------------\n",
      "TotalMass            546591.3300411195    450000.0            \n",
      "MassRatio            0.1931868759847878   0.5                 \n",
      "Spin1                0.1537946378473849   0.2                 \n",
      "Spin2                0.3741491336479901   0.4                 \n",
      "dL/(PC_SI * 1e6)     16234.883071022541   5000.0              \n",
      "Phase                5.893827068480487    1.5707963267948966  \n",
      "cos(i)               -0.17082120199889383 0.5000000000000001  \n",
      "lambda               1.0975563492245919   3.141592653589793   \n",
      "sin(beta)            0.005292885573639161 0.7071067811865475  \n",
      "psi                  0.39587524161017695  0.7853981633974483  \n",
      "tref                 2500782.345529318    2498353.5229473603  \n"
     ]
    }
   ],
   "source": [
    "parameters_sample = [\n",
    "    'TotalMass', 'MassRatio', 'Spin1', 'Spin2', 'dL/(PC_SI * 1e6)',\n",
    "    'Phase', 'cos(i)', 'lambda', 'sin(beta)', 'psi', 'tref'\n",
    "]\n",
    "\n",
    "print(f\"{'Parameter':<20} {'Found':<20} {'True':<20}\")\n",
    "print('-' * 60)\n",
    "\n",
    "for i, param in enumerate(parameters_sample):\n",
    "    found = found_parameters[i]\n",
    "    true = transform_parameters(parameters)[i]\n",
    "    print(f\"{param:<20} {found:<20} {true:<20}\")\n"
   ]
  },
  {
   "cell_type": "markdown",
   "id": "721a9e10",
   "metadata": {},
   "source": [
    "Next Steps:\n",
    "- no noise\n",
    "- include merger\n",
    "- check for only one parameter\n",
    "- tolerance smaller\n",
    "- iterations bigger\n",
    "- check what the variable results contain"
   ]
  }
 ],
 "metadata": {
  "kernelspec": {
   "display_name": "lisa_env",
   "language": "python",
   "name": "python3"
  },
  "language_info": {
   "codemirror_mode": {
    "name": "ipython",
    "version": 3
   },
   "file_extension": ".py",
   "mimetype": "text/x-python",
   "name": "python",
   "nbconvert_exporter": "python",
   "pygments_lexer": "ipython3",
   "version": "3.12.9"
  }
 },
 "nbformat": 4,
 "nbformat_minor": 5
}
